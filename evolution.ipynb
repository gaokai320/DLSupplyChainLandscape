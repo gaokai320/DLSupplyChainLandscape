{
 "cells": [
  {
   "cell_type": "code",
   "execution_count": 1,
   "id": "40ebb961-b631-4c1d-b19b-c0da3fcaaca3",
   "metadata": {},
   "outputs": [
    {
     "name": "stdout",
     "output_type": "stream",
     "text": [
      "1.3.4\n",
      "0.11.2\n",
      "3.5.0\n"
     ]
    }
   ],
   "source": [
    "import pandas as pd\n",
    "import matplotlib\n",
    "import matplotlib.pyplot as plt\n",
    "import seaborn as sns\n",
    "from pprint import pprint\n",
    "from tqdm import tqdm\n",
    "from pymongo import MongoClient\n",
    "from packaging.version import Version\n",
    "%matplotlib inline\n",
    "%config InlineBackend.figure_format = \"svg\"\n",
    "print(pd.__version__)\n",
    "print(sns.__version__)\n",
    "print(matplotlib.__version__)"
   ]
  },
  {
   "cell_type": "markdown",
   "id": "3170a55c-cd6b-4530-a181-579a07791395",
   "metadata": {},
   "source": [
    "## Load Data"
   ]
  },
  {
   "cell_type": "code",
   "execution_count": 2,
   "id": "b0065479-fbb0-4a83-a450-65ae489ceadf",
   "metadata": {},
   "outputs": [
    {
     "name": "stdout",
     "output_type": "stream",
     "text": [
      "Toal number of packages in each SC:\n",
      "13 121 5926 5622 11682\n",
      "Total number of unique packages in each SC:\n",
      "13 82 3494 3602 6251\n"
     ]
    }
   ],
   "source": [
    "ms_df = pd.read_csv('data/mindspore.csv')\n",
    "ms_df['framework'] = 'mindspore'\n",
    "ms_df['dependent_number'] = ms_df['dependent_number'].fillna(0).astype(int)\n",
    "pp_df = pd.read_csv('data/paddlepaddle.csv')\n",
    "pp_df['framework'] = 'paddlepaddle'\n",
    "pp_df['dependent_number'] = pp_df['dependent_number'].fillna(0).astype(int)\n",
    "torch_df = pd.read_csv('data/torch.csv')\n",
    "torch_df['framework'] = 'pytorch'\n",
    "torch_df['dependent_number'] = torch_df['dependent_number'].fillna(0).astype(int)\n",
    "tf_df = pd.read_csv('data/tensorflow.csv')\n",
    "tf_df['framework'] = 'tensorflow'\n",
    "tf_df['dependent_number'] = tf_df['dependent_number'].fillna(0).astype(int)\n",
    "all_df = pd.concat([ms_df, pp_df, torch_df, tf_df], ignore_index=True)\n",
    "print('Toal number of packages in each SC:')\n",
    "print(len(ms_df), len(pp_df), len(torch_df), len(tf_df), len(all_df))\n",
    "\n",
    "ms_packages = set(ms_df['name'].unique())\n",
    "pp_packages = set(pp_df['name'].unique())\n",
    "torch_packages = set(torch_df['name'].unique())\n",
    "tf_packages = set(tf_df['name'].unique())\n",
    "all_packages = set(all_df['name'].unique())\n",
    "print('Total number of unique packages in each SC:')\n",
    "print(len(ms_packages), len(pp_packages), len(\n",
    "    torch_packages), len(tf_packages), len(all_packages))"
   ]
  },
  {
   "cell_type": "markdown",
   "id": "3938f08f-8651-4d1c-af4c-c340ed4e3ff1",
   "metadata": {
    "tags": []
   },
   "source": [
    "## Version Evolution"
   ]
  },
  {
   "cell_type": "code",
   "execution_count": 3,
   "id": "e0d2bdb9-fcce-4d82-9cd6-24512c861e2d",
   "metadata": {},
   "outputs": [],
   "source": [
    "client = MongoClient(host='127.0.0.1', port=27017)\n",
    "pypi_db = client['pypi']\n",
    "versioned_deps = pypi_db['versioned_dependencies']\n",
    "distribution_metadata = pypi_db['distribution_metadata']"
   ]
  },
  {
   "cell_type": "code",
   "execution_count": 4,
   "id": "e30f6013-d407-4aa4-b6c8-d880681c9de2",
   "metadata": {},
   "outputs": [],
   "source": [
    "def get_versions(pkg: str) -> list:\n",
    "    pipeline = [\n",
    "        {\"$match\": {\"name\": pkg}},\n",
    "        {\"$group\": {\"_id\": None, \"versions\": {\"$addToSet\": \"$version\"}}}\n",
    "    ]\n",
    "    versions = list(distribution_metadata.aggregate(pipeline=pipeline))\n",
    "    if versions:\n",
    "        return sorted(versions[0]['versions'], key=Version)\n",
    "    else:\n",
    "        return []"
   ]
  },
  {
   "cell_type": "code",
   "execution_count": 5,
   "id": "c75e10e2-7aad-4be8-bd07-2278a85e1160",
   "metadata": {},
   "outputs": [
    {
     "data": {
      "text/plain": [
       "'2021-10-21 14:45:53.897101 UTC'"
      ]
     },
     "execution_count": 5,
     "metadata": {},
     "output_type": "execute_result"
    }
   ],
   "source": [
    "def get_upload_time(pkg: str, version: str):\n",
    "    results = list(distribution_metadata.find({\"name\": pkg, \"version\": version, \"upload_time\": {\"$ne\": None}}, \n",
    "                                         projection={\"_id\": False, \"upload_time\": True}))\n",
    "    return pd.DataFrame(results)['upload_time'].min()\n",
    "get_upload_time(\"torch\", \"1.10.0\")"
   ]
  },
  {
   "cell_type": "code",
   "execution_count": 6,
   "id": "e9ec3bb6-c438-44ee-a6a0-c242ba1f45e3",
   "metadata": {},
   "outputs": [],
   "source": [
    "def get_all_versions(packages):\n",
    "    res = pd.DataFrame()\n",
    "    for pkg in tqdm(packages):\n",
    "        query = {\n",
    "            \"name\": pkg,\n",
    "            \"extra\": False\n",
    "        }\n",
    "        results = list(versioned_deps.find(query, projection={\"_id\": False, \"extra\": False}))\n",
    "        df = pd.DataFrame(results)\n",
    "        try:\n",
    "            df = df[df['dependency'].isin(all_packages)]\n",
    "            for version in df['version'].unique():\n",
    "                df.loc[df['version']==version, ['upload_time']] = get_upload_time(pkg, version)\n",
    "        except:\n",
    "            print(pkg)\n",
    "        res = res.append(df)\n",
    "    return res.reset_index(drop=True)"
   ]
  },
  {
   "cell_type": "code",
   "execution_count": 7,
   "id": "9bd9f57e-afb5-4582-9cd9-ddcd4586508a",
   "metadata": {},
   "outputs": [],
   "source": [
    "def get_all_versions(packages):\n",
    "    res = pd.DataFrame()\n",
    "    for pkg in tqdm(packages):\n",
    "        query = {\n",
    "            \"name\": pkg,\n",
    "            \"extra\": False\n",
    "        }\n",
    "        results = list(versioned_deps.find(query, projection={\"_id\": False, \"extra\": False}))\n",
    "        df = pd.DataFrame(results)\n",
    "        try:\n",
    "            df = df[df['dependency'].isin(all_packages)]\n",
    "            for version in df['version'].unique():\n",
    "                df.loc[df['version']==version, ['upload_time']] = get_upload_time(pkg, version)\n",
    "        except:\n",
    "            print(pkg)\n",
    "        res = res.append(df)\n",
    "    return res.reset_index(drop=True)"
   ]
  },
  {
   "cell_type": "code",
   "execution_count": 8,
   "id": "5f76815e-e629-4bfa-9ea6-76fae454baaa",
   "metadata": {},
   "outputs": [
    {
     "name": "stderr",
     "output_type": "stream",
     "text": [
      "  1%|█▋                                                                                                                                                        | 67/6251 [00:03<04:31, 22.78it/s]"
     ]
    },
    {
     "name": "stdout",
     "output_type": "stream",
     "text": [
      "bert-serving\n"
     ]
    },
    {
     "name": "stderr",
     "output_type": "stream",
     "text": [
      "  4%|██████▌                                                                                                                                                  | 267/6251 [00:18<06:52, 14.49it/s]"
     ]
    },
    {
     "name": "stdout",
     "output_type": "stream",
     "text": [
      "torch-workflow-archiver\n"
     ]
    },
    {
     "name": "stderr",
     "output_type": "stream",
     "text": [
      "  5%|████████▏                                                                                                                                                | 334/6251 [00:24<08:15, 11.94it/s]"
     ]
    },
    {
     "name": "stdout",
     "output_type": "stream",
     "text": [
      "tensorflow-gpu-estimator\n"
     ]
    },
    {
     "name": "stderr",
     "output_type": "stream",
     "text": [
      "  7%|██████████▋                                                                                                                                              | 435/6251 [00:33<07:35, 12.76it/s]"
     ]
    },
    {
     "name": "stdout",
     "output_type": "stream",
     "text": [
      "tensorflow-cpu-estimator\n"
     ]
    },
    {
     "name": "stderr",
     "output_type": "stream",
     "text": [
      " 14%|█████████████████████                                                                                                                                    | 862/6251 [01:15<09:12,  9.76it/s]"
     ]
    },
    {
     "name": "stdout",
     "output_type": "stream",
     "text": [
      "tensorflow-io-gcs-filesystem\n"
     ]
    },
    {
     "name": "stderr",
     "output_type": "stream",
     "text": [
      " 15%|██████████████████████▍                                                                                                                                  | 919/6251 [01:23<11:04,  8.03it/s]"
     ]
    },
    {
     "name": "stdout",
     "output_type": "stream",
     "text": [
      "tensorflow-recorder\n"
     ]
    },
    {
     "name": "stderr",
     "output_type": "stream",
     "text": [
      " 16%|███████████████████████▉                                                                                                                                 | 980/6251 [01:30<09:16,  9.48it/s]"
     ]
    },
    {
     "name": "stdout",
     "output_type": "stream",
     "text": [
      "pytorchfi\n"
     ]
    },
    {
     "name": "stderr",
     "output_type": "stream",
     "text": [
      " 16%|████████████████████████▋                                                                                                                               | 1013/6251 [01:37<10:27,  8.35it/s]"
     ]
    },
    {
     "name": "stdout",
     "output_type": "stream",
     "text": [
      "paddle-ernie\n"
     ]
    },
    {
     "name": "stderr",
     "output_type": "stream",
     "text": [
      " 17%|█████████████████████████▊                                                                                                                              | 1060/6251 [01:46<11:05,  7.80it/s]"
     ]
    },
    {
     "name": "stdout",
     "output_type": "stream",
     "text": [
      "tensorflow-onnx\n"
     ]
    },
    {
     "name": "stderr",
     "output_type": "stream",
     "text": [
      " 18%|███████████████████████████▍                                                                                                                            | 1126/6251 [01:55<10:15,  8.32it/s]"
     ]
    },
    {
     "name": "stdout",
     "output_type": "stream",
     "text": [
      "paddle-upgrade-tool\n"
     ]
    },
    {
     "name": "stderr",
     "output_type": "stream",
     "text": [
      " 21%|███████████████████████████████▍                                                                                                                        | 1293/6251 [02:24<11:51,  6.97it/s]"
     ]
    },
    {
     "name": "stdout",
     "output_type": "stream",
     "text": [
      "tf-1.x-rectified-adam\n"
     ]
    },
    {
     "name": "stderr",
     "output_type": "stream",
     "text": [
      " 22%|████████████████████████████████▋                                                                                                                       | 1344/6251 [02:32<11:12,  7.30it/s]"
     ]
    },
    {
     "name": "stdout",
     "output_type": "stream",
     "text": [
      "asteroid-sphinx-theme\n"
     ]
    },
    {
     "name": "stderr",
     "output_type": "stream",
     "text": [
      " 22%|█████████████████████████████████▌                                                                                                                      | 1381/6251 [02:39<19:25,  4.18it/s]"
     ]
    },
    {
     "name": "stdout",
     "output_type": "stream",
     "text": [
      "ngraph-tensorflow-bridge\n"
     ]
    },
    {
     "name": "stderr",
     "output_type": "stream",
     "text": [
      " 22%|█████████████████████████████████▊                                                                                                                      | 1391/6251 [02:40<12:11,  6.64it/s]"
     ]
    },
    {
     "name": "stdout",
     "output_type": "stream",
     "text": [
      "bert-service\n"
     ]
    },
    {
     "name": "stderr",
     "output_type": "stream",
     "text": [
      " 22%|██████████████████████████████████▏                                                                                                                     | 1404/6251 [02:42<10:41,  7.55it/s]"
     ]
    },
    {
     "name": "stdout",
     "output_type": "stream",
     "text": [
      "fairseq-doc\n",
      "syntaxnet-with-tensorflow\n"
     ]
    },
    {
     "name": "stderr",
     "output_type": "stream",
     "text": [
      " 23%|██████████████████████████████████▏                                                                                                                     | 1407/6251 [02:42<10:27,  7.72it/s]"
     ]
    },
    {
     "name": "stdout",
     "output_type": "stream",
     "text": [
      "torch-vision\n"
     ]
    },
    {
     "name": "stderr",
     "output_type": "stream",
     "text": [
      " 25%|█████████████████████████████████████▌                                                                                                                  | 1545/6251 [03:09<13:09,  5.96it/s]"
     ]
    },
    {
     "name": "stdout",
     "output_type": "stream",
     "text": [
      "ppcls-notebook\n"
     ]
    },
    {
     "name": "stderr",
     "output_type": "stream",
     "text": [
      " 26%|███████████████████████████████████████▋                                                                                                                | 1632/6251 [03:25<11:55,  6.46it/s]"
     ]
    },
    {
     "name": "stdout",
     "output_type": "stream",
     "text": [
      "tensorflownumpy\n"
     ]
    },
    {
     "name": "stderr",
     "output_type": "stream",
     "text": [
      " 29%|███████████████████████████████████████████▉                                                                                                            | 1807/6251 [04:04<12:34,  5.89it/s]"
     ]
    },
    {
     "name": "stdout",
     "output_type": "stream",
     "text": [
      "tensorflow-io-plugin-gs-nightly\n"
     ]
    },
    {
     "name": "stderr",
     "output_type": "stream",
     "text": [
      " 38%|██████████████████████████████████████████████████████████▍                                                                                             | 2403/6251 [07:47<23:04,  2.78it/s]"
     ]
    },
    {
     "name": "stdout",
     "output_type": "stream",
     "text": [
      "tensorflow-io-gcs-filesystem-nightly\n"
     ]
    },
    {
     "name": "stderr",
     "output_type": "stream",
     "text": [
      " 42%|████████████████████████████████████████████████████████████████▏                                                                                       | 2638/6251 [09:28<24:00,  2.51it/s]"
     ]
    },
    {
     "name": "stdout",
     "output_type": "stream",
     "text": [
      "tensorboard-data-server\n"
     ]
    },
    {
     "name": "stderr",
     "output_type": "stream",
     "text": [
      " 43%|████████████████████████████████████████████████████████████████▊                                                                                       | 2663/6251 [09:37<21:54,  2.73it/s]"
     ]
    },
    {
     "name": "stdout",
     "output_type": "stream",
     "text": [
      "tensorflowdnspython\n"
     ]
    },
    {
     "name": "stderr",
     "output_type": "stream",
     "text": [
      " 46%|█████████████████████████████████████████████████████████████████████▍                                                                                  | 2857/6251 [10:57<22:00,  2.57it/s]"
     ]
    },
    {
     "name": "stdout",
     "output_type": "stream",
     "text": [
      "pydone\n"
     ]
    },
    {
     "name": "stderr",
     "output_type": "stream",
     "text": [
      " 48%|████████████████████████████████████████████████████████████████████████▎                                                                               | 2975/6251 [11:47<23:47,  2.29it/s]"
     ]
    },
    {
     "name": "stdout",
     "output_type": "stream",
     "text": [
      "ppocr-test\n"
     ]
    },
    {
     "name": "stderr",
     "output_type": "stream",
     "text": [
      " 50%|████████████████████████████████████████████████████████████████████████████                                                                            | 3126/6251 [13:17<23:56,  2.18it/s]"
     ]
    },
    {
     "name": "stdout",
     "output_type": "stream",
     "text": [
      "skflow\n"
     ]
    },
    {
     "name": "stderr",
     "output_type": "stream",
     "text": [
      " 54%|█████████████████████████████████████████████████████████████████████████████████▊                                                                      | 3367/6251 [15:13<22:38,  2.12it/s]"
     ]
    },
    {
     "name": "stdout",
     "output_type": "stream",
     "text": [
      "torchviz\n"
     ]
    },
    {
     "name": "stderr",
     "output_type": "stream",
     "text": [
      " 55%|████████████████████████████████████████████████████████████████████████████████████                                                                    | 3457/6251 [15:58<23:06,  2.01it/s]"
     ]
    },
    {
     "name": "stdout",
     "output_type": "stream",
     "text": [
      "x2paddle\n"
     ]
    },
    {
     "name": "stderr",
     "output_type": "stream",
     "text": [
      " 56%|█████████████████████████████████████████████████████████████████████████████████████▋                                                                  | 3523/6251 [16:55<37:12,  1.22it/s]"
     ]
    },
    {
     "name": "stdout",
     "output_type": "stream",
     "text": [
      "jtyoui-ernie\n"
     ]
    },
    {
     "name": "stderr",
     "output_type": "stream",
     "text": [
      " 65%|██████████████████████████████████████████████████████████████████████████████████████████████████▊                                                     | 4065/6251 [22:29<21:21,  1.71it/s]"
     ]
    },
    {
     "name": "stdout",
     "output_type": "stream",
     "text": [
      "torchlightning\n"
     ]
    },
    {
     "name": "stderr",
     "output_type": "stream",
     "text": [
      " 68%|██████████████████████████████████████████████████████████████████████████████████████████████████████▊                                                 | 4230/6251 [24:09<20:18,  1.66it/s]"
     ]
    },
    {
     "name": "stdout",
     "output_type": "stream",
     "text": [
      "ppdet-notebook\n"
     ]
    },
    {
     "name": "stderr",
     "output_type": "stream",
     "text": [
      " 70%|██████████████████████████████████████████████████████████████████████████████████████████████████████████▌                                             | 4383/6251 [26:08<22:22,  1.39it/s]"
     ]
    },
    {
     "name": "stdout",
     "output_type": "stream",
     "text": [
      "torchcontrib\n"
     ]
    },
    {
     "name": "stderr",
     "output_type": "stream",
     "text": [
      " 73%|██████████████████████████████████████████████████████████████████████████████████████████████████████████████▊                                         | 4556/6251 [28:20<20:10,  1.40it/s]"
     ]
    },
    {
     "name": "stdout",
     "output_type": "stream",
     "text": [
      "tensorflow-tools\n"
     ]
    },
    {
     "name": "stderr",
     "output_type": "stream",
     "text": [
      " 75%|██████████████████████████████████████████████████████████████████████████████████████████████████████████████████                                      | 4691/6251 [29:57<18:39,  1.39it/s]"
     ]
    },
    {
     "name": "stdout",
     "output_type": "stream",
     "text": [
      "paddle-gpu-serving\n"
     ]
    },
    {
     "name": "stderr",
     "output_type": "stream",
     "text": [
      " 75%|██████████████████████████████████████████████████████████████████████████████████████████████████████████████████▌                                     | 4712/6251 [30:12<19:43,  1.30it/s]"
     ]
    },
    {
     "name": "stdout",
     "output_type": "stream",
     "text": [
      "paddle_fl\n"
     ]
    },
    {
     "name": "stderr",
     "output_type": "stream",
     "text": [
      " 76%|███████████████████████████████████████████████████████████████████████████████████████████████████████████████████▏                                    | 4738/6251 [30:32<18:23,  1.37it/s]"
     ]
    },
    {
     "name": "stdout",
     "output_type": "stream",
     "text": [
      "ct-master-build\n"
     ]
    },
    {
     "name": "stderr",
     "output_type": "stream",
     "text": [
      " 81%|███████████████████████████████████████████████████████████████████████████████████████████████████████████████████████████▌                            | 5079/6251 [35:24<16:57,  1.15it/s]"
     ]
    },
    {
     "name": "stdout",
     "output_type": "stream",
     "text": [
      "tensorflow-tesla\n"
     ]
    },
    {
     "name": "stderr",
     "output_type": "stream",
     "text": [
      " 83%|█████████████████████████████████████████████████████████████████████████████████████████████████████████████████████████████▍                          | 5160/6251 [36:46<15:34,  1.17it/s]"
     ]
    },
    {
     "name": "stdout",
     "output_type": "stream",
     "text": [
      "inference-gym\n"
     ]
    },
    {
     "name": "stderr",
     "output_type": "stream",
     "text": [
      " 84%|███████████████████████████████████████████████████████████████████████████████████████████████████████████████████████████████▏                        | 5232/6251 [37:49<14:35,  1.16it/s]"
     ]
    },
    {
     "name": "stdout",
     "output_type": "stream",
     "text": [
      "recordio\n"
     ]
    },
    {
     "name": "stderr",
     "output_type": "stream",
     "text": [
      " 93%|████████████████████████████████████████████████████████████████████████████████████████████████████████████████████████████████████████████▉           | 5794/6251 [46:08<06:47,  1.12it/s]"
     ]
    },
    {
     "name": "stdout",
     "output_type": "stream",
     "text": [
      "syntaxnet\n"
     ]
    },
    {
     "name": "stderr",
     "output_type": "stream",
     "text": [
      " 93%|█████████████████████████████████████████████████████████████████████████████████████████████████████████████████████████████████████████████▎          | 5813/6251 [46:27<06:55,  1.05it/s]"
     ]
    },
    {
     "name": "stdout",
     "output_type": "stream",
     "text": [
      "lightning-data\n"
     ]
    },
    {
     "name": "stderr",
     "output_type": "stream",
     "text": [
      " 94%|███████████████████████████████████████████████████████████████████████████████████████████████████████████████████████████████████████████████▏        | 5890/6251 [48:26<05:58,  1.01it/s]"
     ]
    },
    {
     "name": "stdout",
     "output_type": "stream",
     "text": [
      "pytorch-translate\n"
     ]
    },
    {
     "name": "stderr",
     "output_type": "stream",
     "text": [
      " 95%|████████████████████████████████████████████████████████████████████████████████████████████████████████████████████████████████████████████████▉       | 5963/6251 [50:04<05:25,  1.13s/it]"
     ]
    },
    {
     "name": "stdout",
     "output_type": "stream",
     "text": [
      "PaddleDetection-test\n"
     ]
    },
    {
     "name": "stderr",
     "output_type": "stream",
     "text": [
      " 96%|█████████████████████████████████████████████████████████████████████████████████████████████████████████████████████████████████████████████████▏      | 5970/6251 [50:12<05:02,  1.08s/it]"
     ]
    },
    {
     "name": "stdout",
     "output_type": "stream",
     "text": [
      "tensorflow-probability-gpu\n"
     ]
    },
    {
     "name": "stderr",
     "output_type": "stream",
     "text": [
      " 99%|███████████████████████████████████████████████████████████████████████████████████████████████████████████████████████████████████████████████████████▏| 6218/6251 [54:47<00:36,  1.11s/it]"
     ]
    },
    {
     "name": "stdout",
     "output_type": "stream",
     "text": [
      "unofficial-pt-lightning-sphinx-theme\n"
     ]
    },
    {
     "name": "stderr",
     "output_type": "stream",
     "text": [
      "100%|████████████████████████████████████████████████████████████████████████████████████████████████████████████████████████████████████████████████████████| 6251/6251 [55:23<00:00,  1.88it/s]\n"
     ]
    }
   ],
   "source": [
    "versioned_df = get_all_versions(all_packages)"
   ]
  },
  {
   "cell_type": "code",
   "execution_count": 9,
   "id": "8c60ebcc-aaf2-4e87-8180-20b6897a1901",
   "metadata": {},
   "outputs": [
    {
     "data": {
      "text/plain": [
       "6444637"
      ]
     },
     "execution_count": 9,
     "metadata": {},
     "output_type": "execute_result"
    }
   ],
   "source": [
    "len(versioned_df)"
   ]
  },
  {
   "cell_type": "code",
   "execution_count": 10,
   "id": "581e7e6f-7a48-4aa6-a1a7-e62bf415c612",
   "metadata": {},
   "outputs": [
    {
     "data": {
      "text/html": [
       "<div>\n",
       "<style scoped>\n",
       "    .dataframe tbody tr th:only-of-type {\n",
       "        vertical-align: middle;\n",
       "    }\n",
       "\n",
       "    .dataframe tbody tr th {\n",
       "        vertical-align: top;\n",
       "    }\n",
       "\n",
       "    .dataframe thead th {\n",
       "        text-align: right;\n",
       "    }\n",
       "</style>\n",
       "<table border=\"1\" class=\"dataframe\">\n",
       "  <thead>\n",
       "    <tr style=\"text-align: right;\">\n",
       "      <th></th>\n",
       "      <th>name</th>\n",
       "      <th>version</th>\n",
       "      <th>dependency</th>\n",
       "      <th>dependency_version</th>\n",
       "      <th>upload_time</th>\n",
       "    </tr>\n",
       "  </thead>\n",
       "  <tbody>\n",
       "    <tr>\n",
       "      <th>0</th>\n",
       "      <td>gravityspy</td>\n",
       "      <td>1.0.1</td>\n",
       "      <td>Keras</td>\n",
       "      <td>2.3.1</td>\n",
       "      <td>2020-03-25 17:45:36.751896 UTC</td>\n",
       "    </tr>\n",
       "    <tr>\n",
       "      <th>1</th>\n",
       "      <td>gravityspy</td>\n",
       "      <td>1.0.1</td>\n",
       "      <td>Keras</td>\n",
       "      <td>2.4.0</td>\n",
       "      <td>2020-03-25 17:45:36.751896 UTC</td>\n",
       "    </tr>\n",
       "    <tr>\n",
       "      <th>2</th>\n",
       "      <td>gravityspy</td>\n",
       "      <td>1.0.1</td>\n",
       "      <td>Keras</td>\n",
       "      <td>2.4.1</td>\n",
       "      <td>2020-03-25 17:45:36.751896 UTC</td>\n",
       "    </tr>\n",
       "    <tr>\n",
       "      <th>3</th>\n",
       "      <td>gravityspy</td>\n",
       "      <td>1.0.1</td>\n",
       "      <td>Keras</td>\n",
       "      <td>2.4.2</td>\n",
       "      <td>2020-03-25 17:45:36.751896 UTC</td>\n",
       "    </tr>\n",
       "    <tr>\n",
       "      <th>4</th>\n",
       "      <td>gravityspy</td>\n",
       "      <td>1.0.1</td>\n",
       "      <td>Keras</td>\n",
       "      <td>2.4.3</td>\n",
       "      <td>2020-03-25 17:45:36.751896 UTC</td>\n",
       "    </tr>\n",
       "  </tbody>\n",
       "</table>\n",
       "</div>"
      ],
      "text/plain": [
       "         name version dependency dependency_version  \\\n",
       "0  gravityspy   1.0.1      Keras              2.3.1   \n",
       "1  gravityspy   1.0.1      Keras              2.4.0   \n",
       "2  gravityspy   1.0.1      Keras              2.4.1   \n",
       "3  gravityspy   1.0.1      Keras              2.4.2   \n",
       "4  gravityspy   1.0.1      Keras              2.4.3   \n",
       "\n",
       "                      upload_time  \n",
       "0  2020-03-25 17:45:36.751896 UTC  \n",
       "1  2020-03-25 17:45:36.751896 UTC  \n",
       "2  2020-03-25 17:45:36.751896 UTC  \n",
       "3  2020-03-25 17:45:36.751896 UTC  \n",
       "4  2020-03-25 17:45:36.751896 UTC  "
      ]
     },
     "execution_count": 10,
     "metadata": {},
     "output_type": "execute_result"
    }
   ],
   "source": [
    "versioned_df.head()"
   ]
  },
  {
   "cell_type": "code",
   "execution_count": 11,
   "id": "3a705db1-a2aa-4367-bf89-82576e145b1c",
   "metadata": {},
   "outputs": [
    {
     "data": {
      "text/plain": [
       "(6132, 6251)"
      ]
     },
     "execution_count": 11,
     "metadata": {},
     "output_type": "execute_result"
    }
   ],
   "source": [
    "len(versioned_df['name'].unique()), len(all_packages)"
   ]
  },
  {
   "cell_type": "code",
   "execution_count": 12,
   "id": "9647ac7b-d262-47c4-bfc8-0c2505a7a679",
   "metadata": {},
   "outputs": [],
   "source": [
    "versioned_df.to_csv(\"data/versions.csv\", index=0)"
   ]
  },
  {
   "cell_type": "code",
   "execution_count": 13,
   "id": "cc03053e-c147-4b83-a417-4fbd383bbb29",
   "metadata": {},
   "outputs": [],
   "source": [
    "def versioned_sc(framework: list, version: str):\n",
    "    sc = {}\n",
    "    sc[1] = set(framework)\n",
    "    layer = 1\n",
    "    right_df = pd.DataFrame()\n",
    "    right_df.loc[:, 'name'] = framework\n",
    "    right_df.loc[:, 'version'] = version\n",
    "    all_df = pd.DataFrame()\n",
    "    all_df = all_df.append(right_df)\n",
    "    while not right_df.empty:\n",
    "        layer += 1\n",
    "        tmp = versioned_df.merge(right_df, left_on=['dependency', 'dependency_version'], right_on=['name', 'version'])\n",
    "        if not tmp.empty:\n",
    "            sc[layer] = set(tmp['name_x'].unique())\n",
    "            right_df = tmp[['name_x', 'version_x']].drop_duplicates().rename(columns={'name_x': 'name', 'version_x': 'version'})\n",
    "            right_df = right_df[~(right_df['name'].isin(all_df['name']))]\n",
    "            all_df = all_df.append(right_df)\n",
    "            # print('layer: {} finished'.format(layer))\n",
    "        else:\n",
    "            break\n",
    "    return sc"
   ]
  },
  {
   "cell_type": "code",
   "execution_count": 14,
   "id": "065c825c-77d4-4be4-b48e-fb16749e682b",
   "metadata": {
    "tags": []
   },
   "outputs": [
    {
     "name": "stdout",
     "output_type": "stream",
     "text": [
      "['0.2.0', '0.3.1', '1.0.0', '1.0.1', '1.1.0', '1.1.1', '1.2.0rc1', '1.2.0', '1.2.1', '1.3.0', '1.5.0.dev20211104', '1.5.0.dev20211105', '1.5.0rc1', '1.5.0']\n",
      "mindspore 0.2.0 finished\n",
      "mindspore 0.3.1 finished\n",
      "mindspore 1.0.0 finished\n",
      "mindspore 1.0.1 finished\n",
      "mindspore 1.1.0 finished\n",
      "mindspore 1.1.1 finished\n",
      "mindspore 1.2.0rc1 finished\n",
      "mindspore 1.2.0 finished\n",
      "mindspore 1.2.1 finished\n",
      "mindspore 1.3.0 finished\n",
      "mindspore 1.5.0.dev20211104 finished\n",
      "mindspore 1.5.0.dev20211105 finished\n",
      "mindspore 1.5.0rc1 finished\n",
      "mindspore 1.5.0 finished\n",
      "mindspore done\n",
      "['0.10.0', '0.10.5', '0.10.7', '0.11.0', '0.12.0', '0.13.0', '0.14.0', '0.15.0', '1.0.0', '1.0.1', '1.0.2', '1.1.0', '1.2.0', '1.2.1', '1.3.0', '1.3.1', '1.3.2', '1.4.0', '1.4.1', '1.5.0', '1.5.1', '1.5.2', '1.6.0rc0', '1.6.0', '1.6.1', '1.6.2', '1.6.3', '1.7.0', '1.7.1', '1.7.2', '1.8.0', '1.8.1', '1.8.2', '1.8.3', '1.8.4', '1.8.5', '2.0.0a0', '2.0.0b0', '2.0.0rc0', '2.0.0rc1', '2.0.0', '2.0.1', '2.0.2', '2.1.0', '2.1.1', '2.1.2', '2.1.3', '2.2.0rc0', '2.2.0']\n",
      "paddlepaddle 0.10.0 finished\n",
      "paddlepaddle 0.10.5 finished\n",
      "paddlepaddle 0.10.7 finished\n",
      "paddlepaddle 0.11.0 finished\n",
      "paddlepaddle 0.12.0 finished\n",
      "paddlepaddle 0.13.0 finished\n",
      "paddlepaddle 0.14.0 finished\n",
      "paddlepaddle 0.15.0 finished\n",
      "paddlepaddle 1.0.0 finished\n",
      "paddlepaddle 1.0.1 finished\n",
      "paddlepaddle 1.0.2 finished\n",
      "paddlepaddle 1.1.0 finished\n",
      "paddlepaddle 1.2.0 finished\n",
      "paddlepaddle 1.2.1 finished\n",
      "paddlepaddle 1.3.0 finished\n",
      "paddlepaddle 1.3.1 finished\n",
      "paddlepaddle 1.3.2 finished\n",
      "paddlepaddle 1.4.0 finished\n",
      "paddlepaddle 1.4.1 finished\n",
      "paddlepaddle 1.5.0 finished\n",
      "paddlepaddle 1.5.1 finished\n",
      "paddlepaddle 1.5.2 finished\n",
      "paddlepaddle 1.6.0rc0 finished\n",
      "paddlepaddle 1.6.0 finished\n",
      "paddlepaddle 1.6.1 finished\n",
      "paddlepaddle 1.6.2 finished\n",
      "paddlepaddle 1.6.3 finished\n",
      "paddlepaddle 1.7.0 finished\n",
      "paddlepaddle 1.7.1 finished\n",
      "paddlepaddle 1.7.2 finished\n",
      "paddlepaddle 1.8.0 finished\n",
      "paddlepaddle 1.8.1 finished\n",
      "paddlepaddle 1.8.2 finished\n",
      "paddlepaddle 1.8.3 finished\n",
      "paddlepaddle 1.8.4 finished\n",
      "paddlepaddle 1.8.5 finished\n",
      "paddlepaddle 2.0.0a0 finished\n",
      "paddlepaddle 2.0.0b0 finished\n",
      "paddlepaddle 2.0.0rc0 finished\n",
      "paddlepaddle 2.0.0rc1 finished\n",
      "paddlepaddle 2.0.0 finished\n",
      "paddlepaddle 2.0.1 finished\n",
      "paddlepaddle 2.0.2 finished\n",
      "paddlepaddle 2.1.0 finished\n",
      "paddlepaddle 2.1.1 finished\n",
      "paddlepaddle 2.1.2 finished\n",
      "paddlepaddle 2.1.3 finished\n",
      "paddlepaddle 2.2.0rc0 finished\n",
      "paddlepaddle 2.2.0 finished\n",
      "paddlepaddle done\n"
     ]
    }
   ],
   "source": [
    "ms_versioned_sc = {}\n",
    "versions = get_versions('mindspore')\n",
    "print(versions)\n",
    "for v in versions:\n",
    "    ms_versioned_sc[v] = versioned_sc(['mindspore', 'mindspore-ascend', 'mindspore-gpu'], v)\n",
    "    print('mindspore {} finished'.format(v))\n",
    "print('mindspore done')\n",
    "pp_versioned_sc = {}\n",
    "versions = get_versions('paddlepaddle')\n",
    "print(versions)\n",
    "for v in versions:\n",
    "    pp_versioned_sc[v] = versioned_sc(['paddlepaddle', 'paddlepaddle-gpu'], v)\n",
    "    print('paddlepaddle {} finished'.format(v))\n",
    "print('paddlepaddle done')"
   ]
  },
  {
   "cell_type": "code",
   "execution_count": 15,
   "id": "54dbb0cf-566f-4f88-9520-3caca0e764b7",
   "metadata": {
    "tags": []
   },
   "outputs": [
    {
     "name": "stdout",
     "output_type": "stream",
     "text": [
      "['0.1.2', '0.1.2.post2', '0.3.0.post4', '0.3.1', '0.4.0', '0.4.1', '0.4.1.post2', '1.0.0', '1.0.1', '1.0.1.post2', '1.1.0', '1.1.0.post2', '1.2.0', '1.3.0', '1.3.0.post2', '1.3.1', '1.4.0', '1.5.0', '1.5.1', '1.6.0', '1.7.0', '1.7.1', '1.8.0', '1.8.1', '1.9.0', '1.9.1', '1.10.0']\n",
      "pytorch 0.1.2 finished\n",
      "pytorch 0.1.2.post2 finished\n",
      "pytorch 0.3.0.post4 finished\n",
      "pytorch 0.3.1 finished\n",
      "pytorch 0.4.0 finished\n",
      "pytorch 0.4.1 finished\n",
      "pytorch 0.4.1.post2 finished\n",
      "pytorch 1.0.0 finished\n",
      "pytorch 1.0.1 finished\n",
      "pytorch 1.0.1.post2 finished\n",
      "pytorch 1.1.0 finished\n",
      "pytorch 1.1.0.post2 finished\n",
      "pytorch 1.2.0 finished\n",
      "pytorch 1.3.0 finished\n",
      "pytorch 1.3.0.post2 finished\n",
      "pytorch 1.3.1 finished\n",
      "pytorch 1.4.0 finished\n",
      "pytorch 1.5.0 finished\n",
      "pytorch 1.5.1 finished\n",
      "pytorch 1.6.0 finished\n",
      "pytorch 1.7.0 finished\n",
      "pytorch 1.7.1 finished\n",
      "pytorch 1.8.0 finished\n",
      "pytorch 1.8.1 finished\n",
      "pytorch 1.9.0 finished\n",
      "pytorch 1.9.1 finished\n",
      "pytorch 1.10.0 finished\n",
      "pytorch done\n",
      "['0.12.0rc0', '0.12.0rc1', '0.12.0', '0.12.1', '1.0.0', '1.0.1', '1.1.0rc0', '1.1.0rc1', '1.1.0rc2', '1.1.0', '1.2.0rc0', '1.2.0rc1', '1.2.0rc2', '1.2.0', '1.2.1', '1.3.0rc0', '1.3.0rc1', '1.3.0rc2', '1.3.0', '1.4.0rc0', '1.4.0rc1', '1.4.0', '1.4.1', '1.5.0rc0', '1.5.0rc1', '1.5.0', '1.5.1', '1.6.0rc0', '1.6.0rc1', '1.6.0', '1.7.0rc0', '1.7.0rc1', '1.7.0', '1.7.1', '1.8.0rc0', '1.8.0rc1', '1.8.0', '1.9.0rc0', '1.9.0rc1', '1.9.0rc2', '1.9.0', '1.10.0rc0', '1.10.0rc1', '1.10.0', '1.10.1', '1.11.0rc0', '1.11.0rc1', '1.11.0rc2', '1.11.0', '1.12.0rc0', '1.12.0rc1', '1.12.0rc2', '1.12.0', '1.12.2', '1.12.3', '1.13.0rc0', '1.13.0rc1', '1.13.0rc2', '1.13.1', '1.13.2', '1.14.0rc0', '1.14.0rc1', '1.14.0', '1.15.0rc0', '1.15.0rc1', '1.15.0rc2', '1.15.0rc3', '1.15.0', '1.15.2', '1.15.3', '1.15.4', '1.15.5', '2.0.0a0', '2.0.0b0', '2.0.0b1', '2.0.0rc0', '2.0.0rc1', '2.0.0rc2', '2.0.0', '2.0.1', '2.0.2', '2.0.3', '2.0.4', '2.1.0rc0', '2.1.0rc1', '2.1.0rc2', '2.1.0', '2.1.1', '2.1.2', '2.1.3', '2.1.4', '2.2.0rc0', '2.2.0rc1', '2.2.0rc2', '2.2.0rc3', '2.2.0rc4', '2.2.0', '2.2.1', '2.2.2', '2.2.3', '2.3.0rc0', '2.3.0rc1', '2.3.0rc2', '2.3.0', '2.3.1', '2.3.2', '2.3.3', '2.3.4', '2.4.0rc0', '2.4.0rc1', '2.4.0rc2', '2.4.0rc3', '2.4.0rc4', '2.4.0', '2.4.1', '2.4.2', '2.4.3', '2.4.4', '2.5.0rc0', '2.5.0rc1', '2.5.0rc2', '2.5.0rc3', '2.5.0', '2.5.1', '2.5.2', '2.6.0rc0', '2.6.0rc1', '2.6.0rc2', '2.6.0', '2.6.1', '2.6.2', '2.7.0rc0', '2.7.0rc1', '2.7.0']\n",
      "tensorflow 0.12.0rc0 finished\n",
      "tensorflow 0.12.0rc1 finished\n",
      "tensorflow 0.12.0 finished\n",
      "tensorflow 0.12.1 finished\n",
      "tensorflow 1.0.0 finished\n",
      "tensorflow 1.0.1 finished\n",
      "tensorflow 1.1.0rc0 finished\n",
      "tensorflow 1.1.0rc1 finished\n",
      "tensorflow 1.1.0rc2 finished\n",
      "tensorflow 1.1.0 finished\n",
      "tensorflow 1.2.0rc0 finished\n",
      "tensorflow 1.2.0rc1 finished\n",
      "tensorflow 1.2.0rc2 finished\n",
      "tensorflow 1.2.0 finished\n",
      "tensorflow 1.2.1 finished\n",
      "tensorflow 1.3.0rc0 finished\n",
      "tensorflow 1.3.0rc1 finished\n",
      "tensorflow 1.3.0rc2 finished\n",
      "tensorflow 1.3.0 finished\n",
      "tensorflow 1.4.0rc0 finished\n",
      "tensorflow 1.4.0rc1 finished\n",
      "tensorflow 1.4.0 finished\n",
      "tensorflow 1.4.1 finished\n",
      "tensorflow 1.5.0rc0 finished\n",
      "tensorflow 1.5.0rc1 finished\n",
      "tensorflow 1.5.0 finished\n",
      "tensorflow 1.5.1 finished\n",
      "tensorflow 1.6.0rc0 finished\n",
      "tensorflow 1.6.0rc1 finished\n",
      "tensorflow 1.6.0 finished\n",
      "tensorflow 1.7.0rc0 finished\n",
      "tensorflow 1.7.0rc1 finished\n",
      "tensorflow 1.7.0 finished\n",
      "tensorflow 1.7.1 finished\n",
      "tensorflow 1.8.0rc0 finished\n",
      "tensorflow 1.8.0rc1 finished\n",
      "tensorflow 1.8.0 finished\n",
      "tensorflow 1.9.0rc0 finished\n",
      "tensorflow 1.9.0rc1 finished\n",
      "tensorflow 1.9.0rc2 finished\n",
      "tensorflow 1.9.0 finished\n",
      "tensorflow 1.10.0rc0 finished\n",
      "tensorflow 1.10.0rc1 finished\n",
      "tensorflow 1.10.0 finished\n",
      "tensorflow 1.10.1 finished\n",
      "tensorflow 1.11.0rc0 finished\n",
      "tensorflow 1.11.0rc1 finished\n",
      "tensorflow 1.11.0rc2 finished\n",
      "tensorflow 1.11.0 finished\n",
      "tensorflow 1.12.0rc0 finished\n",
      "tensorflow 1.12.0rc1 finished\n",
      "tensorflow 1.12.0rc2 finished\n",
      "tensorflow 1.12.0 finished\n",
      "tensorflow 1.12.2 finished\n",
      "tensorflow 1.12.3 finished\n",
      "tensorflow 1.13.0rc0 finished\n",
      "tensorflow 1.13.0rc1 finished\n",
      "tensorflow 1.13.0rc2 finished\n",
      "tensorflow 1.13.1 finished\n",
      "tensorflow 1.13.2 finished\n",
      "tensorflow 1.14.0rc0 finished\n",
      "tensorflow 1.14.0rc1 finished\n",
      "tensorflow 1.14.0 finished\n",
      "tensorflow 1.15.0rc0 finished\n",
      "tensorflow 1.15.0rc1 finished\n",
      "tensorflow 1.15.0rc2 finished\n",
      "tensorflow 1.15.0rc3 finished\n",
      "tensorflow 1.15.0 finished\n",
      "tensorflow 1.15.2 finished\n",
      "tensorflow 1.15.3 finished\n",
      "tensorflow 1.15.4 finished\n",
      "tensorflow 1.15.5 finished\n",
      "tensorflow 2.0.0a0 finished\n",
      "tensorflow 2.0.0b0 finished\n",
      "tensorflow 2.0.0b1 finished\n",
      "tensorflow 2.0.0rc0 finished\n",
      "tensorflow 2.0.0rc1 finished\n",
      "tensorflow 2.0.0rc2 finished\n",
      "tensorflow 2.0.0 finished\n",
      "tensorflow 2.0.1 finished\n",
      "tensorflow 2.0.2 finished\n",
      "tensorflow 2.0.3 finished\n",
      "tensorflow 2.0.4 finished\n",
      "tensorflow 2.1.0rc0 finished\n",
      "tensorflow 2.1.0rc1 finished\n",
      "tensorflow 2.1.0rc2 finished\n",
      "tensorflow 2.1.0 finished\n",
      "tensorflow 2.1.1 finished\n",
      "tensorflow 2.1.2 finished\n",
      "tensorflow 2.1.3 finished\n",
      "tensorflow 2.1.4 finished\n",
      "tensorflow 2.2.0rc0 finished\n",
      "tensorflow 2.2.0rc1 finished\n",
      "tensorflow 2.2.0rc2 finished\n",
      "tensorflow 2.2.0rc3 finished\n",
      "tensorflow 2.2.0rc4 finished\n",
      "tensorflow 2.2.0 finished\n",
      "tensorflow 2.2.1 finished\n",
      "tensorflow 2.2.2 finished\n",
      "tensorflow 2.2.3 finished\n",
      "tensorflow 2.3.0rc0 finished\n",
      "tensorflow 2.3.0rc1 finished\n",
      "tensorflow 2.3.0rc2 finished\n",
      "tensorflow 2.3.0 finished\n",
      "tensorflow 2.3.1 finished\n",
      "tensorflow 2.3.2 finished\n",
      "tensorflow 2.3.3 finished\n",
      "tensorflow 2.3.4 finished\n",
      "tensorflow 2.4.0rc0 finished\n",
      "tensorflow 2.4.0rc1 finished\n",
      "tensorflow 2.4.0rc2 finished\n",
      "tensorflow 2.4.0rc3 finished\n",
      "tensorflow 2.4.0rc4 finished\n",
      "tensorflow 2.4.0 finished\n",
      "tensorflow 2.4.1 finished\n",
      "tensorflow 2.4.2 finished\n",
      "tensorflow 2.4.3 finished\n",
      "tensorflow 2.4.4 finished\n",
      "tensorflow 2.5.0rc0 finished\n",
      "tensorflow 2.5.0rc1 finished\n",
      "tensorflow 2.5.0rc2 finished\n",
      "tensorflow 2.5.0rc3 finished\n",
      "tensorflow 2.5.0 finished\n",
      "tensorflow 2.5.1 finished\n",
      "tensorflow 2.5.2 finished\n",
      "tensorflow 2.6.0rc0 finished\n",
      "tensorflow 2.6.0rc1 finished\n",
      "tensorflow 2.6.0rc2 finished\n",
      "tensorflow 2.6.0 finished\n",
      "tensorflow 2.6.1 finished\n",
      "tensorflow 2.6.2 finished\n",
      "tensorflow 2.7.0rc0 finished\n",
      "tensorflow 2.7.0rc1 finished\n",
      "tensorflow 2.7.0 finished\n",
      "tensorflow done\n"
     ]
    }
   ],
   "source": [
    "torch_versioned_sc = {}\n",
    "versions = get_versions('torch')\n",
    "print(versions)\n",
    "for v in versions:\n",
    "    torch_versioned_sc[v] = versioned_sc(['torch'], v)\n",
    "    print('pytorch {} finished'.format(v))\n",
    "print('pytorch done')\n",
    "tf_versioned_sc = {}\n",
    "versions = get_versions('tensorflow')\n",
    "print(versions)\n",
    "for v in versions:\n",
    "    tf_versioned_sc[v] = versioned_sc(['tensorflow', 'intel-tensorflow', 'intel-tensorflow-avx512', 'tensorflow-aarch64', 'tensorflow-ascend',\n",
    "                      'tensorflow-cpu', 'tensorflow-fedora28', 'tensorflow-gpu', 'tensorflow-macos', 'tf-nightly', 'tf-nightly-cpu',\n",
    "                      'tf-nightly-gpu', 'tf-nightly-xla-gpu'], v)\n",
    "    print('tensorflow {} finished'.format(v))\n",
    "print('tensorflow done')"
   ]
  },
  {
   "cell_type": "code",
   "execution_count": 16,
   "id": "04d43151-ab18-4bc3-ac74-d71e0cee21b7",
   "metadata": {},
   "outputs": [],
   "source": [
    "def version_structure(ver_sc: dict):\n",
    "    for ver, sc in ver_sc.items():\n",
    "        a = set()\n",
    "        res = ver\n",
    "        for l, p in sc.items():\n",
    "            a = a.union(p)\n",
    "            res = res + ',' + str(len(p))\n",
    "        res = res + ',' + str(len(a))\n",
    "        print(res)"
   ]
  },
  {
   "cell_type": "code",
   "execution_count": 17,
   "id": "a3ff9e6d-c316-44dc-8deb-dc5579fa5ffc",
   "metadata": {},
   "outputs": [
    {
     "name": "stdout",
     "output_type": "stream",
     "text": [
      "0.2.0,3,3\n",
      "0.3.1,3,3\n",
      "1.0.0,3,3\n",
      "1.0.1,3,3\n",
      "1.1.0,3,3\n",
      "1.1.1,3,1,4\n",
      "1.2.0rc1,3,3\n",
      "1.2.0,3,2,5\n",
      "1.2.1,3,1,4\n",
      "1.3.0,3,2,5\n",
      "1.5.0.dev20211104,3,1,4\n",
      "1.5.0.dev20211105,3,1,4\n",
      "1.5.0rc1,3,1,4\n",
      "1.5.0,3,1,4\n"
     ]
    }
   ],
   "source": [
    "version_structure(ms_versioned_sc)"
   ]
  },
  {
   "cell_type": "code",
   "execution_count": 18,
   "id": "4b2009fb-4625-4a63-86cd-bcc01aca4735",
   "metadata": {},
   "outputs": [
    {
     "name": "stdout",
     "output_type": "stream",
     "text": [
      "0.10.0,2,8,2,10\n",
      "0.10.5,2,8,2,10\n",
      "0.10.7,2,9,2,11\n",
      "0.11.0,2,9,2,11\n",
      "0.12.0,2,9,2,11\n",
      "0.13.0,2,9,2,11\n",
      "0.14.0,2,9,2,11\n",
      "0.15.0,2,8,2,10\n",
      "1.0.0,2,8,2,10\n",
      "1.0.1,2,8,2,10\n",
      "1.0.2,2,8,2,10\n",
      "1.1.0,2,8,2,10\n",
      "1.2.0,2,8,2,10\n",
      "1.2.1,2,8,2,10\n",
      "1.3.0,2,9,2,11\n",
      "1.3.1,2,9,2,11\n",
      "1.3.2,2,9,2,11\n",
      "1.4.0,2,9,2,11\n",
      "1.4.1,2,9,2,11\n",
      "1.5.0,2,8,2,10\n",
      "1.5.1,2,8,2,10\n",
      "1.5.2,2,8,2,10\n",
      "1.6.0rc0,2,8,2,10\n",
      "1.6.0,2,8,2,10\n",
      "1.6.1,2,8,2,10\n",
      "1.6.2,2,8,2,10\n",
      "1.6.3,2,9,2,11\n",
      "1.7.0,2,9,2,11\n",
      "1.7.1,2,9,2,11\n",
      "1.7.2,2,11,2,13\n",
      "1.8.0,2,13,2,15\n",
      "1.8.1,2,13,2,15\n",
      "1.8.2,2,13,2,15\n",
      "1.8.3,2,14,2,16\n",
      "1.8.4,2,14,2,16\n",
      "1.8.5,2,16,2,18\n",
      "2.0.0a0,2,15,2,17\n",
      "2.0.0b0,2,15,2,17\n",
      "2.0.0rc0,2,18,2,20\n",
      "2.0.0rc1,2,17,2,19\n",
      "2.0.0,2,21,6,27\n",
      "2.0.1,2,23,2,25\n",
      "2.0.2,2,19,2,21\n",
      "2.1.0,2,20,2,22\n",
      "2.1.1,2,19,2,21\n",
      "2.1.2,2,19,2,21\n",
      "2.1.3,2,19,2,21\n",
      "2.2.0rc0,2,19,2,21\n",
      "2.2.0,2,19,2,21\n"
     ]
    }
   ],
   "source": [
    "version_structure(pp_versioned_sc)"
   ]
  },
  {
   "cell_type": "code",
   "execution_count": 19,
   "id": "90e8fff1-292c-41f1-94b3-3c444481ce86",
   "metadata": {
    "tags": []
   },
   "outputs": [
    {
     "name": "stdout",
     "output_type": "stream",
     "text": [
      "0.1.2,1,1204,1114,243,16,1,1985\n",
      "0.1.2.post2,1,1204,1114,243,16,1,1985\n",
      "0.3.0.post4,1,1204,1114,243,16,1,1985\n",
      "0.3.1,1,1206,1123,217,13,1,1971\n",
      "0.4.0,1,1244,1125,212,13,1,1993\n",
      "0.4.1,1,1282,1177,219,13,1,2057\n",
      "0.4.1.post2,1,1278,1177,219,13,1,2056\n",
      "1.0.0,1,1411,1269,170,9,1,2187\n",
      "1.0.1,1,1423,1273,170,9,1,2198\n",
      "1.0.1.post2,1,1428,1272,170,9,1,2199\n",
      "1.1.0,1,1527,1350,165,13,3,2316\n",
      "1.1.0.post2,1,1518,1351,165,13,3,2314\n",
      "1.2.0,1,1619,1422,151,14,2,2422\n",
      "1.3.0,1,1650,1497,184,14,1,2515\n",
      "1.3.0.post2,1,1645,1495,183,14,1,2511\n",
      "1.3.1,1,1693,1535,168,14,1,2563\n",
      "1.4.0,1,1887,1619,152,14,1,2722\n",
      "1.5.0,1,1916,1615,150,14,1,2745\n",
      "1.5.1,1,1921,1613,147,14,1,2745\n",
      "1.6.0,1,2205,1729,141,13,1,2999\n",
      "1.7.0,1,2248,1718,123,13,1,3011\n",
      "1.7.1,1,2360,1737,116,13,1,3072\n",
      "1.8.0,1,2365,1717,119,13,1,3075\n",
      "1.8.1,1,2446,1719,117,13,1,3115\n",
      "1.9.0,1,2484,1710,111,13,1,3137\n",
      "1.9.1,1,2460,1712,113,13,1,3129\n",
      "1.10.0,1,2449,1705,114,13,1,3118\n"
     ]
    }
   ],
   "source": [
    "version_structure(torch_versioned_sc)"
   ]
  },
  {
   "cell_type": "code",
   "execution_count": 20,
   "id": "14c7236d-626a-401b-93c5-ca0c068054e4",
   "metadata": {},
   "outputs": [
    {
     "name": "stdout",
     "output_type": "stream",
     "text": [
      "0.12.0rc0,13,877,277,129,37,5,2,1,1213\n",
      "0.12.0rc1,13,845,276,129,37,5,2,1,1186\n",
      "0.12.0,13,878,277,129,37,5,2,1,1214\n",
      "0.12.1,13,881,278,129,37,5,2,1,1215\n",
      "1.0.0,13,898,278,129,37,5,2,1,1230\n",
      "1.0.1,13,907,281,129,37,5,2,1,1242\n",
      "1.1.0rc0,13,871,280,129,37,5,2,1,1211\n",
      "1.1.0rc1,13,871,280,129,37,5,2,1,1211\n",
      "1.1.0rc2,13,871,280,129,37,5,2,1,1211\n",
      "1.1.0,13,918,282,127,36,5,2,1,1252\n",
      "1.2.0rc0,13,880,280,127,37,5,2,1,1219\n",
      "1.2.0rc1,13,881,280,127,37,5,2,1,1220\n",
      "1.2.0rc2,13,881,280,127,37,5,2,1,1220\n",
      "1.2.0,13,930,299,118,35,5,2,1,1264\n",
      "1.2.1,13,933,301,118,35,5,2,1,1268\n",
      "1.3.0rc0,13,894,294,128,37,5,2,1,1240\n",
      "1.3.0rc1,13,894,294,128,37,5,2,1,1240\n",
      "1.3.0rc2,13,894,294,128,37,5,2,1,1240\n",
      "1.3.0,13,953,311,123,35,4,1,1294\n",
      "1.4.0rc0,13,909,304,133,37,4,1,1261\n",
      "1.4.0rc1,13,909,304,133,37,4,1,1261\n",
      "1.4.0,13,962,315,123,35,4,1,1302\n",
      "1.4.1,13,964,315,123,35,4,1,1304\n",
      "1.5.0rc0,13,922,308,133,37,4,1,1272\n",
      "1.5.0rc1,13,922,308,133,37,4,1,1272\n",
      "1.5.0,13,974,320,123,35,4,1,1316\n",
      "1.5.1,13,970,319,123,35,4,1,1313\n",
      "1.6.0rc0,13,928,312,133,37,4,1,1281\n",
      "1.6.0rc1,13,928,312,133,37,4,1,1281\n",
      "1.6.0,13,983,366,128,36,4,1,1352\n",
      "1.7.0rc0,13,933,355,138,38,4,1,1311\n",
      "1.7.0rc1,13,934,356,138,38,4,1,1313\n",
      "1.7.0,13,991,365,128,36,4,1,1361\n",
      "1.7.1,13,986,365,128,36,4,1,1356\n",
      "1.8.0rc0,13,945,357,138,38,4,1,1325\n",
      "1.8.0rc1,13,945,357,138,38,4,1,1325\n",
      "1.8.0,13,1006,371,117,34,4,1,1365\n",
      "1.9.0rc0,13,959,364,136,38,4,1,1336\n",
      "1.9.0rc1,13,959,364,136,38,4,1,1336\n",
      "1.9.0rc2,13,959,364,136,38,4,1,1336\n",
      "1.9.0,13,1018,378,126,36,4,1,1389\n",
      "1.10.0rc0,13,972,367,136,38,4,1,1350\n",
      "1.10.0rc1,13,972,367,136,38,4,1,1350\n",
      "1.10.0,13,1029,383,126,35,4,1,1400\n",
      "1.10.1,13,1032,384,126,35,4,1,1404\n",
      "1.11.0rc0,13,989,377,136,37,4,1,1370\n",
      "1.11.0rc1,13,989,377,136,37,4,1,1370\n",
      "1.11.0rc2,13,989,377,136,37,4,1,1370\n",
      "1.11.0,13,1046,394,121,33,4,1,1411\n",
      "1.12.0rc0,13,1001,387,131,35,4,1,1379\n",
      "1.12.0rc1,13,1001,387,131,35,4,1,1379\n",
      "1.12.0rc2,13,1001,387,131,35,4,1,1379\n",
      "1.12.0,13,1107,403,116,33,2,1,1463\n",
      "1.12.2,13,1083,403,115,33,2,1,1438\n",
      "1.12.3,13,1079,403,115,33,2,1,1435\n",
      "1.13.0rc0,13,1034,391,129,35,2,1,1402\n",
      "1.13.0rc1,13,1036,391,129,35,2,1,1404\n",
      "1.13.0rc2,13,1035,391,129,35,2,1,1403\n",
      "1.13.1,13,1140,452,99,11,1,1507\n",
      "1.13.2,13,1111,445,93,11,1,1470\n",
      "1.14.0rc0,13,1059,428,107,13,1,1429\n",
      "1.14.0rc1,13,1059,428,107,13,1,1429\n",
      "1.14.0,13,1207,459,94,11,1,1569\n",
      "1.15.0rc0,13,1142,443,98,11,1,1499\n",
      "1.15.0rc1,13,1142,443,98,11,1,1499\n",
      "1.15.0rc2,13,1143,443,98,11,1,1500\n",
      "1.15.0rc3,13,1142,443,98,11,1,1499\n",
      "1.15.0,13,1223,488,90,11,1,1591\n",
      "1.15.2,13,1206,487,91,11,1,1581\n",
      "1.15.3,13,1196,486,91,11,1,1573\n",
      "1.15.4,13,1190,486,91,11,1,1566\n",
      "1.15.5,13,1182,486,91,11,1,1559\n",
      "2.0.0a0,13,1125,451,107,12,1,1499\n",
      "2.0.0b0,13,1124,455,107,12,1,1500\n",
      "2.0.0b1,13,1130,465,108,12,1,1513\n",
      "2.0.0rc0,13,1127,465,107,12,1,1509\n",
      "2.0.0rc1,13,1129,491,108,12,1,1524\n",
      "2.0.0rc2,13,1128,465,107,12,1,1510\n",
      "2.0.0,13,1330,542,105,12,1,1739\n",
      "2.0.1,13,1315,511,103,12,1,1705\n",
      "2.0.2,13,1303,511,103,12,1,1696\n",
      "2.0.3,13,1305,511,103,12,1,1697\n",
      "2.0.4,13,1304,511,103,12,1,1696\n",
      "2.1.0rc0,13,1305,509,98,12,1,1697\n",
      "2.1.0rc1,13,1307,513,98,12,1,1699\n",
      "2.1.0rc2,13,1306,513,98,12,1,1698\n",
      "2.1.0,13,1425,584,98,12,1,1836\n",
      "2.1.1,13,1381,579,99,12,1,1797\n",
      "2.1.2,13,1381,579,99,12,1,1798\n",
      "2.1.3,13,1380,579,99,12,1,1797\n",
      "2.1.4,13,1380,582,99,12,1,1797\n",
      "2.2.0rc0,13,1374,568,109,12,1,1793\n",
      "2.2.0rc1,13,1376,568,109,12,1,1795\n",
      "2.2.0rc2,13,1378,568,108,12,1,1793\n",
      "2.2.0rc3,13,1377,568,108,12,1,1794\n",
      "2.2.0rc4,13,1376,568,108,12,1,1793\n",
      "2.2.0,13,1522,598,84,12,1,1928\n",
      "2.2.1,13,1474,595,84,12,1,1879\n",
      "2.2.2,13,1475,595,84,12,1,1879\n",
      "2.2.3,13,1474,595,84,12,1,1879\n",
      "2.3.0rc0,13,1469,588,95,12,1,1880\n",
      "2.3.0rc1,13,1467,588,95,12,1,1878\n",
      "2.3.0rc2,13,1467,588,95,12,1,1878\n",
      "2.3.0,13,1591,637,83,12,1,2002\n",
      "2.3.1,13,1633,634,83,12,1,2036\n",
      "2.3.2,13,1570,631,83,12,1,1976\n",
      "2.3.3,13,1567,631,83,12,1,1973\n",
      "2.3.4,13,1569,631,83,12,1,1975\n",
      "2.4.0rc0,13,1547,604,84,12,1,1948\n",
      "2.4.0rc1,13,1548,605,84,12,1,1950\n",
      "2.4.0rc2,13,1547,604,84,12,1,1948\n",
      "2.4.0rc3,13,1547,604,84,12,1,1948\n",
      "2.4.0rc4,13,1547,604,84,12,1,1948\n",
      "2.4.0,13,1628,615,83,12,1,2021\n",
      "2.4.1,13,1673,619,83,12,1,2066\n",
      "2.4.2,13,1637,617,83,12,1,2033\n",
      "2.4.3,13,1636,617,83,12,1,2032\n",
      "2.4.4,13,1637,617,83,12,1,2033\n",
      "2.5.0rc0,13,1618,606,84,12,1,2014\n",
      "2.5.0rc1,13,1618,606,84,12,1,2014\n",
      "2.5.0rc2,13,1618,606,84,12,1,2014\n",
      "2.5.0rc3,13,1620,606,84,12,1,2016\n",
      "2.5.0,13,1667,615,83,12,1,2057\n",
      "2.5.1,13,1656,613,83,12,1,2050\n",
      "2.5.2,13,1644,613,83,12,1,2039\n",
      "2.6.0rc0,13,1637,604,84,12,1,2028\n",
      "2.6.0rc1,13,1637,604,84,12,1,2028\n",
      "2.6.0rc2,13,1637,604,84,12,1,2028\n",
      "2.6.0,13,1679,608,84,12,1,2069\n",
      "2.6.1,13,1655,607,84,12,1,2045\n",
      "2.6.2,13,1658,607,84,12,1,2046\n",
      "2.7.0rc0,13,1650,601,96,12,1,2041\n",
      "2.7.0rc1,13,1649,601,96,12,1,2040\n",
      "2.7.0,13,1651,603,96,12,1,2042\n"
     ]
    }
   ],
   "source": [
    "version_structure(tf_versioned_sc)"
   ]
  },
  {
   "cell_type": "code",
   "execution_count": null,
   "id": "62a93b2b-9e68-4f34-a307-cdc98e89a8da",
   "metadata": {},
   "outputs": [],
   "source": []
  }
 ],
 "metadata": {
  "kernelspec": {
   "display_name": "Python 3 (ipykernel)",
   "language": "python",
   "name": "python3"
  },
  "language_info": {
   "codemirror_mode": {
    "name": "ipython",
    "version": 3
   },
   "file_extension": ".py",
   "mimetype": "text/x-python",
   "name": "python",
   "nbconvert_exporter": "python",
   "pygments_lexer": "ipython3",
   "version": "3.8.3"
  }
 },
 "nbformat": 4,
 "nbformat_minor": 5
}
