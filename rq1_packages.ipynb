{
 "cells": [
  {
   "cell_type": "code",
   "execution_count": 1,
   "id": "9f359626-57c3-4d9f-8527-12cdef66bca4",
   "metadata": {
    "execution": {
     "iopub.execute_input": "2022-02-18T03:09:06.679817Z",
     "iopub.status.busy": "2022-02-18T03:09:06.679602Z",
     "iopub.status.idle": "2022-02-18T03:09:07.934773Z",
     "shell.execute_reply": "2022-02-18T03:09:07.934101Z",
     "shell.execute_reply.started": "2022-02-18T03:09:06.679755Z"
    },
    "tags": []
   },
   "outputs": [],
   "source": [
    "import numpy as np\n",
    "import pandas as pd\n",
    "from scipy import stats\n",
    "from pymongo import MongoClient\n",
    "import matplotlib\n",
    "import matplotlib.pyplot as plt\n",
    "import seaborn as sns\n",
    "from packaging.version import Version\n",
    "from cliffs_delta import cliffs_delta\n",
    "from scipy.stats import mannwhitneyu\n",
    "%matplotlib inline\n",
    "%config InlineBackend.figure_format = \"retina\"\n"
   ]
  },
  {
   "cell_type": "code",
   "execution_count": 173,
   "id": "ec582ffe-0983-4470-a7d4-3cb0eea82065",
   "metadata": {
    "execution": {
     "iopub.execute_input": "2022-02-21T13:24:24.736919Z",
     "iopub.status.busy": "2022-02-21T13:24:24.736241Z",
     "iopub.status.idle": "2022-02-21T13:24:24.762269Z",
     "shell.execute_reply": "2022-02-21T13:24:24.761644Z",
     "shell.execute_reply.started": "2022-02-21T13:24:24.736868Z"
    },
    "tags": []
   },
   "outputs": [
    {
     "data": {
      "text/html": [
       "<div>\n",
       "<style scoped>\n",
       "    .dataframe tbody tr th:only-of-type {\n",
       "        vertical-align: middle;\n",
       "    }\n",
       "\n",
       "    .dataframe tbody tr th {\n",
       "        vertical-align: top;\n",
       "    }\n",
       "\n",
       "    .dataframe thead th {\n",
       "        text-align: right;\n",
       "    }\n",
       "</style>\n",
       "<table border=\"1\" class=\"dataframe\">\n",
       "  <thead>\n",
       "    <tr style=\"text-align: right;\">\n",
       "      <th></th>\n",
       "      <th>package</th>\n",
       "      <th>layer</th>\n",
       "      <th>framework</th>\n",
       "      <th>dependent_number</th>\n",
       "    </tr>\n",
       "  </thead>\n",
       "  <tbody>\n",
       "    <tr>\n",
       "      <th>0</th>\n",
       "      <td>keras-augm-layer</td>\n",
       "      <td>2</td>\n",
       "      <td>tensorflow</td>\n",
       "      <td>0</td>\n",
       "    </tr>\n",
       "    <tr>\n",
       "      <th>1</th>\n",
       "      <td>DeBERTa</td>\n",
       "      <td>3</td>\n",
       "      <td>tensorflow</td>\n",
       "      <td>0</td>\n",
       "    </tr>\n",
       "    <tr>\n",
       "      <th>2</th>\n",
       "      <td>lfr</td>\n",
       "      <td>3</td>\n",
       "      <td>tensorflow</td>\n",
       "      <td>0</td>\n",
       "    </tr>\n",
       "    <tr>\n",
       "      <th>3</th>\n",
       "      <td>parse-tools</td>\n",
       "      <td>2</td>\n",
       "      <td>tensorflow</td>\n",
       "      <td>0</td>\n",
       "    </tr>\n",
       "    <tr>\n",
       "      <th>4</th>\n",
       "      <td>pytorch-to-tflite</td>\n",
       "      <td>2</td>\n",
       "      <td>tensorflow</td>\n",
       "      <td>0</td>\n",
       "    </tr>\n",
       "  </tbody>\n",
       "</table>\n",
       "</div>"
      ],
      "text/plain": [
       "             package  layer   framework  dependent_number\n",
       "0   keras-augm-layer      2  tensorflow                 0\n",
       "1            DeBERTa      3  tensorflow                 0\n",
       "2                lfr      3  tensorflow                 0\n",
       "3        parse-tools      2  tensorflow                 0\n",
       "4  pytorch-to-tflite      2  tensorflow                 0"
      ]
     },
     "execution_count": 173,
     "metadata": {},
     "output_type": "execute_result"
    }
   ],
   "source": [
    "pypi_db = MongoClient(host='127.0.0.1', port=27017)['pypi']\n",
    "dl_packages = pypi_db['dl_packages']\n",
    "distribution_metadata = pypi_db['distribution_metadata']\n",
    "pkg_layers = pd.read_csv(\"data/package_statistics.csv\")\n",
    "pkg_layers.head()"
   ]
  },
  {
   "cell_type": "code",
   "execution_count": 174,
   "id": "1ecf6714",
   "metadata": {
    "execution": {
     "iopub.execute_input": "2022-02-21T13:24:51.787625Z",
     "iopub.status.busy": "2022-02-21T13:24:51.786805Z",
     "iopub.status.idle": "2022-02-21T13:24:51.813975Z",
     "shell.execute_reply": "2022-02-21T13:24:51.813299Z",
     "shell.execute_reply.started": "2022-02-21T13:24:51.787573Z"
    },
    "tags": []
   },
   "outputs": [
    {
     "data": {
      "text/html": [
       "<div>\n",
       "<style scoped>\n",
       "    .dataframe tbody tr th:only-of-type {\n",
       "        vertical-align: middle;\n",
       "    }\n",
       "\n",
       "    .dataframe tbody tr th {\n",
       "        vertical-align: top;\n",
       "    }\n",
       "\n",
       "    .dataframe thead th {\n",
       "        text-align: right;\n",
       "    }\n",
       "</style>\n",
       "<table border=\"1\" class=\"dataframe\">\n",
       "  <thead>\n",
       "    <tr style=\"text-align: right;\">\n",
       "      <th>framework</th>\n",
       "      <th>tensorflow</th>\n",
       "      <th>pytorch</th>\n",
       "      <th>mxnet</th>\n",
       "      <th>paddlepaddle</th>\n",
       "      <th>mindspore</th>\n",
       "    </tr>\n",
       "    <tr>\n",
       "      <th>layer</th>\n",
       "      <th></th>\n",
       "      <th></th>\n",
       "      <th></th>\n",
       "      <th></th>\n",
       "      <th></th>\n",
       "    </tr>\n",
       "  </thead>\n",
       "  <tbody>\n",
       "    <tr>\n",
       "      <th>1</th>\n",
       "      <td>3</td>\n",
       "      <td>1</td>\n",
       "      <td>16</td>\n",
       "      <td>2</td>\n",
       "      <td>3</td>\n",
       "    </tr>\n",
       "    <tr>\n",
       "      <th>2</th>\n",
       "      <td>2335</td>\n",
       "      <td>2900</td>\n",
       "      <td>62</td>\n",
       "      <td>34</td>\n",
       "      <td>3</td>\n",
       "    </tr>\n",
       "    <tr>\n",
       "      <th>3</th>\n",
       "      <td>714</td>\n",
       "      <td>1903</td>\n",
       "      <td>18</td>\n",
       "      <td>6</td>\n",
       "      <td>0</td>\n",
       "    </tr>\n",
       "    <tr>\n",
       "      <th>4</th>\n",
       "      <td>89</td>\n",
       "      <td>161</td>\n",
       "      <td>1</td>\n",
       "      <td>0</td>\n",
       "      <td>0</td>\n",
       "    </tr>\n",
       "    <tr>\n",
       "      <th>5</th>\n",
       "      <td>11</td>\n",
       "      <td>13</td>\n",
       "      <td>0</td>\n",
       "      <td>0</td>\n",
       "      <td>0</td>\n",
       "    </tr>\n",
       "    <tr>\n",
       "      <th>6</th>\n",
       "      <td>1</td>\n",
       "      <td>1</td>\n",
       "      <td>0</td>\n",
       "      <td>0</td>\n",
       "      <td>0</td>\n",
       "    </tr>\n",
       "    <tr>\n",
       "      <th>sum</th>\n",
       "      <td>2700</td>\n",
       "      <td>3434</td>\n",
       "      <td>93</td>\n",
       "      <td>37</td>\n",
       "      <td>6</td>\n",
       "    </tr>\n",
       "  </tbody>\n",
       "</table>\n",
       "</div>"
      ],
      "text/plain": [
       "framework  tensorflow  pytorch  mxnet  paddlepaddle  mindspore\n",
       "layer                                                         \n",
       "1                   3        1     16             2          3\n",
       "2                2335     2900     62            34          3\n",
       "3                 714     1903     18             6          0\n",
       "4                  89      161      1             0          0\n",
       "5                  11       13      0             0          0\n",
       "6                   1        1      0             0          0\n",
       "sum              2700     3434     93            37          6"
      ]
     },
     "execution_count": 174,
     "metadata": {},
     "output_type": "execute_result"
    }
   ],
   "source": [
    "def layer_count():\n",
    "    layer_count = pkg_layers.groupby(['layer', 'framework'])[\n",
    "        'package'].count().unstack().fillna(0)\n",
    "    layer_count.loc['sum', :] = pkg_layers[['framework', 'package']\n",
    "                                        ].drop_duplicates().groupby('framework')['package'].count()\n",
    "    layer_count = layer_count.astype(int)\n",
    "    layer_count = layer_count[frameworks]\n",
    "    return layer_count\n",
    "layer_count()"
   ]
  },
  {
   "cell_type": "code",
   "execution_count": 92,
   "id": "6f463755",
   "metadata": {
    "execution": {
     "iopub.execute_input": "2022-02-20T07:03:56.870424Z",
     "iopub.status.busy": "2022-02-20T07:03:56.869838Z",
     "iopub.status.idle": "2022-02-20T07:03:58.717166Z",
     "shell.execute_reply": "2022-02-20T07:03:58.716547Z",
     "shell.execute_reply.started": "2022-02-20T07:03:56.870378Z"
    },
    "tags": []
   },
   "outputs": [
    {
     "name": "stdout",
     "output_type": "stream",
     "text": [
      "The ratio of packages with downstreams in tensorflow SC: 2697/2697=100.0%\n",
      "The ratio of packages with downstreams in pytorch SC: 3433/3433=100.0%\n",
      "The ratio of packages with downstreams in mxnet SC: 77/77=100.0%\n",
      "The ratio of packages with downstreams in paddlepaddle SC: 35/35=100.0%\n",
      "The ratio of packages with downstreams in mindspore SC: 3/3=100.0%\n"
     ]
    },
    {
     "data": {
      "text/html": [
       "<div>\n",
       "<style scoped>\n",
       "    .dataframe tbody tr th:only-of-type {\n",
       "        vertical-align: middle;\n",
       "    }\n",
       "\n",
       "    .dataframe tbody tr th {\n",
       "        vertical-align: top;\n",
       "    }\n",
       "\n",
       "    .dataframe thead th {\n",
       "        text-align: right;\n",
       "    }\n",
       "</style>\n",
       "<table border=\"1\" class=\"dataframe\">\n",
       "  <thead>\n",
       "    <tr style=\"text-align: right;\">\n",
       "      <th></th>\n",
       "      <th>0</th>\n",
       "      <th>1</th>\n",
       "      <th>2</th>\n",
       "      <th>3</th>\n",
       "      <th>4</th>\n",
       "      <th>5</th>\n",
       "      <th>6</th>\n",
       "      <th>7</th>\n",
       "      <th>8</th>\n",
       "      <th>9</th>\n",
       "    </tr>\n",
       "  </thead>\n",
       "  <tbody>\n",
       "    <tr>\n",
       "      <th>0</th>\n",
       "      <td>Keras</td>\n",
       "      <td>90</td>\n",
       "      <td>torchvision</td>\n",
       "      <td>977</td>\n",
       "      <td>tensorly</td>\n",
       "      <td>9</td>\n",
       "      <td>sabhi-utils</td>\n",
       "      <td>4</td>\n",
       "      <td>HEBO-mindspore</td>\n",
       "      <td>0.0</td>\n",
       "    </tr>\n",
       "    <tr>\n",
       "      <th>1</th>\n",
       "      <td>tensorflow-addons</td>\n",
       "      <td>55</td>\n",
       "      <td>pytorch-lightning</td>\n",
       "      <td>226</td>\n",
       "      <td>datawig</td>\n",
       "      <td>2</td>\n",
       "      <td>paddle-serving-client</td>\n",
       "      <td>2</td>\n",
       "      <td>READ-mindspore</td>\n",
       "      <td>0.0</td>\n",
       "    </tr>\n",
       "    <tr>\n",
       "      <th>2</th>\n",
       "      <td>tensorflow-probability</td>\n",
       "      <td>48</td>\n",
       "      <td>fastai</td>\n",
       "      <td>88</td>\n",
       "      <td>cnocr</td>\n",
       "      <td>2</td>\n",
       "      <td>ddparser</td>\n",
       "      <td>0</td>\n",
       "      <td>tinyms</td>\n",
       "      <td>0.0</td>\n",
       "    </tr>\n",
       "    <tr>\n",
       "      <th>3</th>\n",
       "      <td>streamlit</td>\n",
       "      <td>45</td>\n",
       "      <td>torchaudio</td>\n",
       "      <td>80</td>\n",
       "      <td>onnx-mxnet</td>\n",
       "      <td>1</td>\n",
       "      <td>pydp</td>\n",
       "      <td>0</td>\n",
       "      <td>0</td>\n",
       "      <td>0.0</td>\n",
       "    </tr>\n",
       "    <tr>\n",
       "      <th>4</th>\n",
       "      <td>tensorflow-text</td>\n",
       "      <td>44</td>\n",
       "      <td>torchtext</td>\n",
       "      <td>79</td>\n",
       "      <td>gluonts</td>\n",
       "      <td>1</td>\n",
       "      <td>paddlepalm</td>\n",
       "      <td>0</td>\n",
       "      <td>0</td>\n",
       "      <td>0.0</td>\n",
       "    </tr>\n",
       "    <tr>\n",
       "      <th>5</th>\n",
       "      <td>seqeval</td>\n",
       "      <td>43</td>\n",
       "      <td>torchmetrics</td>\n",
       "      <td>51</td>\n",
       "      <td>turicreate</td>\n",
       "      <td>1</td>\n",
       "      <td>paddletools</td>\n",
       "      <td>0</td>\n",
       "      <td>0</td>\n",
       "      <td>0.0</td>\n",
       "    </tr>\n",
       "    <tr>\n",
       "      <th>6</th>\n",
       "      <td>tensorflow-serving-api</td>\n",
       "      <td>18</td>\n",
       "      <td>timm</td>\n",
       "      <td>47</td>\n",
       "      <td>treform</td>\n",
       "      <td>1</td>\n",
       "      <td>paddlevideo</td>\n",
       "      <td>0</td>\n",
       "      <td>0</td>\n",
       "      <td>0.0</td>\n",
       "    </tr>\n",
       "    <tr>\n",
       "      <th>7</th>\n",
       "      <td>rasa</td>\n",
       "      <td>18</td>\n",
       "      <td>stanza</td>\n",
       "      <td>46</td>\n",
       "      <td>mxnet-model-server</td>\n",
       "      <td>1</td>\n",
       "      <td>ppcd</td>\n",
       "      <td>0</td>\n",
       "      <td>0</td>\n",
       "      <td>0.0</td>\n",
       "    </tr>\n",
       "    <tr>\n",
       "      <th>8</th>\n",
       "      <td>keras-tuner</td>\n",
       "      <td>17</td>\n",
       "      <td>allennlp</td>\n",
       "      <td>45</td>\n",
       "      <td>Codemao</td>\n",
       "      <td>0</td>\n",
       "      <td>ppvideo</td>\n",
       "      <td>0</td>\n",
       "      <td>0</td>\n",
       "      <td>0.0</td>\n",
       "    </tr>\n",
       "    <tr>\n",
       "      <th>9</th>\n",
       "      <td>tf-models-official</td>\n",
       "      <td>13</td>\n",
       "      <td>pytorch-ignite</td>\n",
       "      <td>38</td>\n",
       "      <td>mxop</td>\n",
       "      <td>0</td>\n",
       "      <td>pyunit-ner</td>\n",
       "      <td>0</td>\n",
       "      <td>0</td>\n",
       "      <td>0.0</td>\n",
       "    </tr>\n",
       "  </tbody>\n",
       "</table>\n",
       "</div>"
      ],
      "text/plain": [
       "                        0   1                  2    3                   4  5  \\\n",
       "0                   Keras  90        torchvision  977            tensorly  9   \n",
       "1       tensorflow-addons  55  pytorch-lightning  226             datawig  2   \n",
       "2  tensorflow-probability  48             fastai   88               cnocr  2   \n",
       "3               streamlit  45         torchaudio   80          onnx-mxnet  1   \n",
       "4         tensorflow-text  44          torchtext   79             gluonts  1   \n",
       "5                 seqeval  43       torchmetrics   51          turicreate  1   \n",
       "6  tensorflow-serving-api  18               timm   47             treform  1   \n",
       "7                    rasa  18             stanza   46  mxnet-model-server  1   \n",
       "8             keras-tuner  17           allennlp   45             Codemao  0   \n",
       "9      tf-models-official  13     pytorch-ignite   38                mxop  0   \n",
       "\n",
       "                       6  7               8    9  \n",
       "0            sabhi-utils  4  HEBO-mindspore  0.0  \n",
       "1  paddle-serving-client  2  READ-mindspore  0.0  \n",
       "2               ddparser  0          tinyms  0.0  \n",
       "3                   pydp  0               0  0.0  \n",
       "4             paddlepalm  0               0  0.0  \n",
       "5            paddletools  0               0  0.0  \n",
       "6            paddlevideo  0               0  0.0  \n",
       "7                   ppcd  0               0  0.0  \n",
       "8                ppvideo  0               0  0.0  \n",
       "9             pyunit-ner  0               0  0.0  "
      ]
     },
     "execution_count": 92,
     "metadata": {},
     "output_type": "execute_result"
    }
   ],
   "source": [
    "def min_layer(df: pd.DataFrame):\n",
    "    return df.sort_values('layer').iloc[0]\n",
    "\n",
    "\n",
    "def get_dependent_distribution(frameworks):\n",
    "    res = {}\n",
    "    top10 = pd.DataFrame()\n",
    "    for f in frameworks:\n",
    "        df = pkg_layers[pkg_layers.framework == f].groupby(\n",
    "            'package')[['layer', 'dependent_number']].apply(min_layer)\n",
    "        df = df[df.layer > 1].sort_values('dependent_number', ascending=False)\n",
    "        with_dependents = df['dependent_number']\n",
    "        print(f'The ratio of packages with downstreams in {f} SC: {len(with_dependents)}/{len(df)}={len(with_dependents)/len(df)*100:.1f}%')\n",
    "        # print(with_dependents.head(10).to_frame().reset_index())\n",
    "        top10 = pd.concat([top10, with_dependents.head(10).to_frame().reset_index()], axis=1, ignore_index=True)\n",
    "        res[f] = with_dependents\n",
    "    top10 = top10.fillna(0)\n",
    "    return res, top10\n",
    "\n",
    "dependent_distribution, top10 = get_dependent_distribution(frameworks[:5])\n",
    "top10\n"
   ]
  },
  {
   "cell_type": "code",
   "execution_count": 8,
   "id": "71d00e8c",
   "metadata": {
    "execution": {
     "iopub.execute_input": "2022-02-18T03:10:06.679072Z",
     "iopub.status.busy": "2022-02-18T03:10:06.678454Z",
     "iopub.status.idle": "2022-02-18T03:10:06.697611Z",
     "shell.execute_reply": "2022-02-18T03:10:06.696825Z",
     "shell.execute_reply.started": "2022-02-18T03:10:06.679019Z"
    },
    "tags": []
   },
   "outputs": [
    {
     "name": "stdout",
     "output_type": "stream",
     "text": [
      "MannwhitneyuResult(statistic=65736.0, pvalue=0.969210554931732)\n",
      "Cliffs delta effect size: (0.0015006665397067226, 'negligible')\n",
      "Gini coefficient: 0.603261785220878 0.7827195727858853\n"
     ]
    }
   ],
   "source": [
    "def compare_dependents():\n",
    "    # https://stackoverflow.com/a/39513799/11332158\n",
    "    def gini(x):\n",
    "        mad = np.abs(np.subtract.outer(x, x)).mean()\n",
    "        rmad = mad/np.mean(x)\n",
    "        g = 0.5 * rmad\n",
    "        return g\n",
    "\n",
    "    tf = dependent_distribution['tensorflow'].values\n",
    "    tc = dependent_distribution['pytorch'].values\n",
    "    print(mannwhitneyu(tf, tc))\n",
    "    print('Cliffs delta effect size:', cliffs_delta(tf, tc))\n",
    "    print('Gini coefficient:', gini(tf), gini(tc))\n",
    "\n",
    "compare_dependents()"
   ]
  },
  {
   "cell_type": "code",
   "execution_count": 9,
   "id": "fe4a9097",
   "metadata": {
    "execution": {
     "iopub.execute_input": "2022-02-18T03:10:11.128208Z",
     "iopub.status.busy": "2022-02-18T03:10:11.127701Z",
     "iopub.status.idle": "2022-02-18T03:10:11.170696Z",
     "shell.execute_reply": "2022-02-18T03:10:11.169953Z",
     "shell.execute_reply.started": "2022-02-18T03:10:11.128167Z"
    }
   },
   "outputs": [
    {
     "name": "stdout",
     "output_type": "stream",
     "text": [
      "tensorflow-pytorch 355\n",
      "tensorflow-mxnet 13\n",
      "tensorflow-paddlepaddle 3\n",
      "tensorflow-mindspore 0\n",
      "pytorch-mxnet 38\n",
      "pytorch-paddlepaddle 7\n",
      "pytorch-mindspore 1\n",
      "mxnet-paddlepaddle 0\n",
      "mxnet-mindspore 0\n",
      "paddlepaddle-mindspore 0\n"
     ]
    }
   ],
   "source": [
    "def common_packages(frameworks: list):\n",
    "    l = len(frameworks)\n",
    "    res = dict()\n",
    "    for i in range(l):\n",
    "        for j in range(i+1, l):\n",
    "            pkgs1 = set(\n",
    "                pkg_layers[pkg_layers.framework == frameworks[i]]['package'])\n",
    "            pkgs2 = set(\n",
    "                pkg_layers[pkg_layers.framework == frameworks[j]]['package'])\n",
    "            res[f'{frameworks[i]}-{frameworks[j]}'] = list(\n",
    "                pkgs1.intersection(pkgs2))\n",
    "\n",
    "    return res\n",
    "\n",
    "\n",
    "common_pkgs = common_packages(frameworks)\n",
    "for k, v in common_pkgs.items():\n",
    "    print(k, len(v))\n"
   ]
  },
  {
   "cell_type": "code",
   "execution_count": 93,
   "id": "8cbfd417",
   "metadata": {
    "execution": {
     "iopub.execute_input": "2022-02-20T07:05:54.579871Z",
     "iopub.status.busy": "2022-02-20T07:05:54.579417Z",
     "iopub.status.idle": "2022-02-20T07:05:54.587647Z",
     "shell.execute_reply": "2022-02-20T07:05:54.586546Z",
     "shell.execute_reply.started": "2022-02-20T07:05:54.579827Z"
    }
   },
   "outputs": [],
   "source": [
    "def agg_fn(df):\n",
    "    return list(df['layer'].values), df['dependent_number'].iloc[0]\n",
    "def pp_ms_common():\n",
    "    return pkg_layers[pkg_layers.package.isin(common_pkgs['pytorch-mindspore']) | \n",
    "           pkg_layers.package.isin(common_pkgs['pytorch-paddlepaddle']) | \n",
    "           pkg_layers.package.isin(common_pkgs['tensorflow-paddlepaddle'])].groupby([\n",
    "    'framework', 'package']).agg({'layer': set, 'dependent_number': min})"
   ]
  },
  {
   "cell_type": "code",
   "execution_count": 11,
   "id": "da6f7e0a",
   "metadata": {
    "execution": {
     "iopub.execute_input": "2022-02-18T03:11:52.572547Z",
     "iopub.status.busy": "2022-02-18T03:11:52.571907Z",
     "iopub.status.idle": "2022-02-18T03:11:52.583469Z",
     "shell.execute_reply": "2022-02-18T03:11:52.582568Z",
     "shell.execute_reply.started": "2022-02-18T03:11:52.572491Z"
    },
    "tags": []
   },
   "outputs": [],
   "source": [
    "def get_ordered_versions(packages: list):\n",
    "    result = dict()\n",
    "    def latest_time(df):\n",
    "        return df.sort_values('upload_time', ascending=False).iloc[0]\n",
    "    for p in packages:\n",
    "        query = {\n",
    "            \"name\": p,\n",
    "        }\n",
    "        projection = {\n",
    "            \"name\": 1,\n",
    "            \"_id\": 0,\n",
    "            \"version\": 1,\n",
    "            \"upload_time\": 1\n",
    "        }\n",
    "        res = pd.DataFrame(list(distribution_metadata.find(query, projection=projection)))\n",
    "        result[p] = list(res.groupby('version')['upload_time'].max().sort_values().index)\n",
    "    return result\n"
   ]
  },
  {
   "cell_type": "code",
   "execution_count": 124,
   "id": "311af10c",
   "metadata": {
    "execution": {
     "iopub.execute_input": "2022-02-20T07:29:48.608937Z",
     "iopub.status.busy": "2022-02-20T07:29:48.608322Z",
     "iopub.status.idle": "2022-02-20T07:29:48.626209Z",
     "shell.execute_reply": "2022-02-20T07:29:48.625693Z",
     "shell.execute_reply.started": "2022-02-20T07:29:48.608903Z"
    },
    "tags": []
   },
   "outputs": [],
   "source": [
    "def version_distance1(idx1, idx2):\n",
    "    l = min(len(idx1), len(idx2))\n",
    "    return np.mean(idx1[-l: ]) - np.mean(idx2[-l: ])\n",
    "\n",
    "def version_distance2(idx1, idx2):\n",
    "    res = 0\n",
    "    if idx1[-1] == idx2[-1]:\n",
    "        res = 0\n",
    "    elif idx1[-1] < idx2[-1]:\n",
    "        for i in range(len(idx2)):\n",
    "            if idx2[-1-i] > idx1[-1]:\n",
    "                res -=1\n",
    "    else:\n",
    "        for i in range(len(idx1)):\n",
    "            if idx1[-1-i] > idx2[-1]:\n",
    "                res += 1\n",
    "    return res\n",
    "\n",
    "\n",
    "def compare_common_package_versions(framework1: str, framework2: str):\n",
    "    pkgs = common_pkgs[f'{framework1}-{framework2}']\n",
    "    ordered_versions = get_ordered_versions(common_pkgs[f'{framework1}-{framework2}'])\n",
    "    print(len(ordered_versions))\n",
    "    pipeline = [\n",
    "        {\n",
    "            \"$match\": {\n",
    "                \"framework\": {\n",
    "                    \"$in\": [framework1, framework2]\n",
    "                },\n",
    "                \"name\": \"iglovikov-helper-functions\"\n",
    "            }\n",
    "        }, {\n",
    "            \"$project\": {\n",
    "                \"_id\": 0,\n",
    "                \"name\": 1,\n",
    "                \"version\": 1,\n",
    "                \"framework\": 1\n",
    "            }\n",
    "        }, {\n",
    "            \"$group\": {\n",
    "                \"_id\": \"$framework\",\n",
    "                \"versions\": {\n",
    "                    \"$addToSet\": \"$version\"\n",
    "                }\n",
    "            }\n",
    "        }\n",
    "    ]\n",
    "    same_count = 0\n",
    "    distance = dict()\n",
    "    distance_ratio = dict()\n",
    "    \n",
    "    for p in pkgs:\n",
    "        pipeline[0][\"$match\"][\"name\"] = p\n",
    "        ovs = ordered_versions[p]\n",
    "        res = pd.DataFrame(list(dl_packages.aggregate(pipeline)))\n",
    "        versions1 = list(res[res['_id']==framework1]['versions'].values[0])\n",
    "        versions1 = sorted(versions1, key=ovs.index)\n",
    "        versions2 = list(res[res['_id']==framework2]['versions'].values[0])\n",
    "        versions2 = sorted(versions2, key=ovs.index)\n",
    "        idx1, idx2 = [ovs.index(_) for _ in versions1], [ovs.index(_) for _ in versions2]\n",
    "        diff1, diff2 = [_ for _ in versions1 if _ not in versions2], [_ for _ in versions2 if _ not in versions1]\n",
    "        if (len(diff1) == 0) and (len(diff2) == 0):\n",
    "            same_count += 1\n",
    "        else:\n",
    "            diff = version_distance2(idx1, idx2)\n",
    "            distance[p] = diff\n",
    "            if diff > 0:\n",
    "                distance_ratio[p] = diff / len(ovs)\n",
    "            else:\n",
    "                distance_ratio[p] = diff / len(ovs)\n",
    "    return same_count, distance, distance_ratio\n"
   ]
  },
  {
   "cell_type": "code",
   "execution_count": 125,
   "id": "4e3da488",
   "metadata": {
    "execution": {
     "iopub.execute_input": "2022-02-20T07:29:49.688045Z",
     "iopub.status.busy": "2022-02-20T07:29:49.687649Z",
     "iopub.status.idle": "2022-02-20T07:29:52.613676Z",
     "shell.execute_reply": "2022-02-20T07:29:52.612964Z",
     "shell.execute_reply.started": "2022-02-20T07:29:49.688009Z"
    },
    "tags": []
   },
   "outputs": [
    {
     "name": "stdout",
     "output_type": "stream",
     "text": [
      "355\n",
      "217 DescribeResult(nobs=138, minmax=(-230, 160), mean=-3.5434782608695654, variance=812.2499206601079, skewness=-2.246498407216077, kurtosis=36.520330219403476) 50 18 70\n"
     ]
    }
   ],
   "source": [
    "_, distances, distance_ratios = compare_common_package_versions('tensorflow', 'pytorch')\n",
    "distance_values = list(distances.values())\n",
    "print(_, stats.describe(distance_values), (np.array(distance_values) < 0).sum(), \n",
    "      (np.array(distance_values) > 0).sum(), (np.array(distance_values) == 0).sum())"
   ]
  },
  {
   "cell_type": "code",
   "execution_count": 126,
   "id": "d0bc23ac",
   "metadata": {
    "collapsed": true,
    "execution": {
     "iopub.execute_input": "2022-02-20T07:29:54.868955Z",
     "iopub.status.busy": "2022-02-20T07:29:54.868095Z",
     "iopub.status.idle": "2022-02-20T07:29:55.507534Z",
     "shell.execute_reply": "2022-02-20T07:29:55.506925Z",
     "shell.execute_reply.started": "2022-02-20T07:29:54.868904Z"
    },
    "jupyter": {
     "outputs_hidden": true
    },
    "tags": []
   },
   "outputs": [
    {
     "name": "stdout",
     "output_type": "stream",
     "text": [
      "38\n",
      "13\n"
     ]
    },
    {
     "data": {
      "text/plain": [
       "((22,\n",
       "  {'cca-zoo': 0,\n",
       "   'vineyard-ml': 0,\n",
       "   'elit': 7,\n",
       "   'gxdltk': 0,\n",
       "   'pyTextMiner': 0,\n",
       "   'ai-graphics': 19,\n",
       "   'monk-cls-test1': 0,\n",
       "   'cnstd': 3,\n",
       "   'sktmls': 34,\n",
       "   'pykale': 6,\n",
       "   'tmnt-cu101': -328,\n",
       "   'wikifaces-tford5': 0,\n",
       "   'ai-graphics-gpu': 0,\n",
       "   'tmnt': -327,\n",
       "   'nprintml': 0,\n",
       "   'cnocr': 3},\n",
       "  {'cca-zoo': 0.0,\n",
       "   'vineyard-ml': 0.0,\n",
       "   'elit': 0.11290322580645161,\n",
       "   'gxdltk': 0.0,\n",
       "   'pyTextMiner': 0.0,\n",
       "   'ai-graphics': 0.76,\n",
       "   'monk-cls-test1': 0.0,\n",
       "   'cnstd': 0.5,\n",
       "   'sktmls': 0.22666666666666666,\n",
       "   'pykale': 0.75,\n",
       "   'tmnt-cu101': -0.9162011173184358,\n",
       "   'wikifaces-tford5': 0.0,\n",
       "   'ai-graphics-gpu': 0.0,\n",
       "   'tmnt': -0.9108635097493036,\n",
       "   'nprintml': 0.0,\n",
       "   'cnocr': 0.21428571428571427}),\n",
       " (8,\n",
       "  {'mlmodels': 5,\n",
       "   'vineyard-ml': 0,\n",
       "   'board-game-recommender': 0,\n",
       "   'pyTextMiner': 0,\n",
       "   'turicreate': 8},\n",
       "  {'mlmodels': 0.16666666666666666,\n",
       "   'vineyard-ml': 0.0,\n",
       "   'board-game-recommender': 0.0,\n",
       "   'pyTextMiner': 0.0,\n",
       "   'turicreate': 0.25806451612903225}))"
      ]
     },
     "execution_count": 126,
     "metadata": {},
     "output_type": "execute_result"
    }
   ],
   "source": [
    "compare_common_package_versions('pytorch', 'mxnet'), compare_common_package_versions('tensorflow', 'mxnet'),"
   ]
  },
  {
   "cell_type": "code",
   "execution_count": 81,
   "id": "a7386aa6-9d3d-437b-9ed2-f1fa1566bcf0",
   "metadata": {
    "execution": {
     "iopub.execute_input": "2022-02-20T05:59:22.048113Z",
     "iopub.status.busy": "2022-02-20T05:59:22.047686Z",
     "iopub.status.idle": "2022-02-20T05:59:22.483830Z",
     "shell.execute_reply": "2022-02-20T05:59:22.483246Z",
     "shell.execute_reply.started": "2022-02-20T05:59:22.048072Z"
    },
    "tags": []
   },
   "outputs": [
    {
     "data": {
      "image/png": "[encoded data removed]",
      "text/plain": [
       "<Figure size 360x288 with 2 Axes>"
      ]
     },
     "metadata": {
      "image/png": {
       "height": 266,
       "width": 319
      },
      "needs_background": "light"
     },
     "output_type": "display_data"
    }
   ],
   "source": [
    "def plot_common_pkg_depth(framework1, framework2):\n",
    "    data = [[0 for i in range(5)] for j in range(5)]\n",
    "    pkgs = common_pkgs[f'{framework1}-{framework2}']\n",
    "    df = pkg_layers[(pkg_layers.package.isin(pkgs)) & (pkg_layers.framework.isin([\n",
    "        framework1, framework2]))].groupby(['framework', 'package'])['layer'].max()\n",
    "    for p in pkgs:\n",
    "        l1, l2 = df.loc[('pytorch', p)], df.loc[('tensorflow', p)]\n",
    "        data[l1 - 2][l2 - 2] += 1\n",
    "    x = [2, 3, 4, 5, 6]\n",
    "    y = [2, 3, 4, 5, 6]\n",
    "    d = pd.DataFrame(data=data, index=x, columns=y)\n",
    "    fig, ax = plt.subplots(figsize=(5, 4))\n",
    "    g = sns.heatmap(d, annot=True, cmap='YlGnBu', fmt='g', cbar_kws={\"pad\": 0.03}, annot_kws={\"size\": 12})\n",
    "    g.set_xlabel('Tensorflow', fontsize=12)\n",
    "    g.set_ylabel('PyTorch', fontsize=12)\n",
    "    g.set_xticklabels(g.get_xticklabels(), rotation=0, fontsize=12, ha='center')\n",
    "    g.set_yticklabels(g.get_yticklabels(), rotation=0, fontsize=12)\n",
    "    g.xaxis.set_ticks_position('top')\n",
    "    plt.savefig('figures/torch_tf_common_depth.pdf', bbox_inches='tight')\n",
    "\n",
    "plot_common_pkg_depth('tensorflow', 'pytorch')"
   ]
  },
  {
   "cell_type": "code",
   "execution_count": 120,
   "id": "b0b89dd3-21e4-40ce-82c2-b92282aaab9d",
   "metadata": {
    "execution": {
     "iopub.execute_input": "2022-02-20T07:26:03.482551Z",
     "iopub.status.busy": "2022-02-20T07:26:03.481959Z",
     "iopub.status.idle": "2022-02-20T07:26:03.581203Z",
     "shell.execute_reply": "2022-02-20T07:26:03.580523Z",
     "shell.execute_reply.started": "2022-02-20T07:26:03.482498Z"
    },
    "tags": []
   },
   "outputs": [
    {
     "name": "stderr",
     "output_type": "stream",
     "text": [
      "/home/kgao/anaconda3/lib/python3.8/site-packages/seaborn/_decorators.py:36: FutureWarning: Pass the following variable as a keyword arg: x. From version 0.12, the only valid positional argument will be `data`, and passing other arguments without an explicit keyword will result in an error or misinterpretation.\n",
      "  warnings.warn(\n"
     ]
    },
    {
     "data": {
      "text/plain": [
       "<AxesSubplot:>"
      ]
     },
     "execution_count": 120,
     "metadata": {},
     "output_type": "execute_result"
    },
    {
     "data": {
      "image/png": "[encoded data removed]",
      "text/plain": [
       "<Figure size 432x288 with 1 Axes>"
      ]
     },
     "metadata": {
      "image/png": {
       "height": 248,
       "width": 352
      },
      "needs_background": "light"
     },
     "output_type": "display_data"
    }
   ],
   "source": [
    "sns.boxenplot(distance_values, showfliers=False)"
   ]
  },
  {
   "cell_type": "code",
   "execution_count": 131,
   "id": "4efcb82a-f941-4073-9766-42e1f49e8764",
   "metadata": {
    "execution": {
     "iopub.execute_input": "2022-02-20T14:06:19.028712Z",
     "iopub.status.busy": "2022-02-20T14:06:19.028098Z",
     "iopub.status.idle": "2022-02-20T14:06:19.043184Z",
     "shell.execute_reply": "2022-02-20T14:06:19.041860Z",
     "shell.execute_reply.started": "2022-02-20T14:06:19.028658Z"
    },
    "tags": []
   },
   "outputs": [],
   "source": [
    "def sample_packages():\n",
    "    samples = pd.DataFrame()\n",
    "    samples = samples.append([pd.concat([pkg_layers[(pkg_layers['framework'] == 'pytorch') &\n",
    "                                                 (pkg_layers['layer'] == i)].sample(frac=0.1),\n",
    "                                        pkg_layers[(pkg_layers['framework'] == 'tensorflow') &\n",
    "                                                 (pkg_layers['layer'] == i)].sample(frac=0.1)],\n",
    "                                      ignore_index=True) for i in [2, 3]], ignore_index=True)\n",
    "    samples = samples.append([pd.concat([pkg_layers[(pkg_layers['framework'] == 'pytorch') &\n",
    "                                                 (pkg_layers['layer'] == i)],\n",
    "                                        pkg_layers[(pkg_layers['framework'] == 'tensorflow') &\n",
    "                                                 (pkg_layers['layer'] == i)]],\n",
    "                                      ignore_index=True) for i in [4, 5, 6]], ignore_index=True)\n",
    "    samples = samples.append(pkg_layers[(pkg_layers['framework'].isin(['mxnet', 'paddlepaddle', 'mindspore']))\n",
    "                                          & (pkg_layers['layer'] > 1)])\n",
    "    samples[['package', 'layer', 'framework']].to_excel('data/samples.xlsx', index=False)\n",
    "    return samples"
   ]
  },
  {
   "cell_type": "code",
   "execution_count": 159,
   "id": "2dded410-8dda-47fb-9aa2-cc38a4516464",
   "metadata": {
    "execution": {
     "iopub.execute_input": "2022-02-20T15:59:33.753997Z",
     "iopub.status.busy": "2022-02-20T15:59:33.753511Z",
     "iopub.status.idle": "2022-02-20T15:59:33.862801Z",
     "shell.execute_reply": "2022-02-20T15:59:33.862030Z",
     "shell.execute_reply.started": "2022-02-20T15:59:33.753959Z"
    },
    "tags": []
   },
   "outputs": [
    {
     "name": "stdout",
     "output_type": "stream",
     "text": [
      "framework  mindspore  mxnet  paddlepaddle  pytorch  tensorflow\n",
      "layer                                                         \n",
      "2                  3     62            34      290         234\n",
      "3                  0     18             6      190          71\n",
      "4                  0      1             0      161          89\n",
      "5                  0      0             0       13          11\n",
      "6                  0      0             0        1           1\n"
     ]
    }
   ],
   "source": [
    "samples = sample_packages()\n",
    "print(samples.groupby(['layer', 'framework'])['package'].count().unstack().fillna(0).astype(int))"
   ]
  },
  {
   "cell_type": "code",
   "execution_count": 165,
   "id": "326ad4f6-cae9-4f93-9787-2f37da2b5a03",
   "metadata": {
    "execution": {
     "iopub.execute_input": "2022-02-20T16:01:18.111680Z",
     "iopub.status.busy": "2022-02-20T16:01:18.111256Z",
     "iopub.status.idle": "2022-02-20T16:01:18.437049Z",
     "shell.execute_reply": "2022-02-20T16:01:18.436412Z",
     "shell.execute_reply.started": "2022-02-20T16:01:18.111649Z"
    },
    "tags": []
   },
   "outputs": [],
   "source": [
    "def check_old_samples():\n",
    "    df = pd.read_excel('data/labelled_samples.xlsx')[['name', 'layer', 'framework', 'DR/NDR', \n",
    "                                                      'Category', 'Subcategory', 'Comment']]\n",
    "    df.rename(columns={\"name\": \"package\"}, inplace=True)\n",
    "    new_samples = pd.DataFrame()\n",
    "    for f in frameworks:\n",
    "        for i in range(2, 7):\n",
    "            p1 = set(df[(df.framework == f) & (df.layer == i)]['package'])\n",
    "            all_df = pkg_layers[(pkg_layers.framework == f) & (pkg_layers.layer == i)][['package', 'layer', 'framework']]\n",
    "            p2 = set(all_df['package'])\n",
    "            df = df[~(df['package'].isin(list(p1 -p2)) & (df['layer'] == i))]\n",
    "            sample_df = df[(df.framework == f) & (df.layer == i)]\n",
    "            p1 = set(sample_df['package'])\n",
    "            \n",
    "            if (f in ['tensorflow', 'pytorch']) and (i in [2, 3]):\n",
    "                left = round(len(p2) * 0.1) - len(p1)\n",
    "            else:\n",
    "                left = len(p2) - len(p1)\n",
    "            if left <= 0:\n",
    "                new_samples = new_samples.append(sample_df.head(len(p1)+left))\n",
    "            if left > 0:\n",
    "                new_samples = new_samples.append([sample_df, all_df.sample(left)])\n",
    "    new_samples.to_csv('data/samples.csv', index=False)\n",
    "    return new_samples\n",
    "new_samples = check_old_samples()\n",
    "# new_samples.groupby(['layer', 'framework'])['package'].count().unstack().fillna(0).astype(int)\n",
    "# print(new_samples.groupby(['layer', 'framework'])['package'].count().unstack().fillna(0).astype(int))\n",
    "# for p in frameworks:\n",
    "#     print(f'The number of sampled unique packages in {p} SC: {len(new_samples[new_samples.framework==p][\"package\"].unique())}')"
   ]
  },
  {
   "cell_type": "code",
   "execution_count": 170,
   "id": "5d65a8ba-256d-4856-8b68-3ee4e1b6c0c9",
   "metadata": {
    "execution": {
     "iopub.execute_input": "2022-02-21T08:47:26.766408Z",
     "iopub.status.busy": "2022-02-21T08:47:26.765965Z",
     "iopub.status.idle": "2022-02-21T08:47:26.784255Z",
     "shell.execute_reply": "2022-02-21T08:47:26.783590Z",
     "shell.execute_reply.started": "2022-02-21T08:47:26.766372Z"
    },
    "tags": []
   },
   "outputs": [
    {
     "data": {
      "text/html": [
       "<div>\n",
       "<style scoped>\n",
       "    .dataframe tbody tr th:only-of-type {\n",
       "        vertical-align: middle;\n",
       "    }\n",
       "\n",
       "    .dataframe tbody tr th {\n",
       "        vertical-align: top;\n",
       "    }\n",
       "\n",
       "    .dataframe thead th {\n",
       "        text-align: right;\n",
       "    }\n",
       "</style>\n",
       "<table border=\"1\" class=\"dataframe\">\n",
       "  <thead>\n",
       "    <tr style=\"text-align: right;\">\n",
       "      <th>framework</th>\n",
       "      <th>mindspore</th>\n",
       "      <th>mxnet</th>\n",
       "      <th>paddlepaddle</th>\n",
       "      <th>pytorch</th>\n",
       "      <th>tensorflow</th>\n",
       "    </tr>\n",
       "    <tr>\n",
       "      <th>layer</th>\n",
       "      <th></th>\n",
       "      <th></th>\n",
       "      <th></th>\n",
       "      <th></th>\n",
       "      <th></th>\n",
       "    </tr>\n",
       "  </thead>\n",
       "  <tbody>\n",
       "    <tr>\n",
       "      <th>1</th>\n",
       "      <td>1</td>\n",
       "      <td>7</td>\n",
       "      <td>2</td>\n",
       "      <td>1</td>\n",
       "      <td>3</td>\n",
       "    </tr>\n",
       "    <tr>\n",
       "      <th>2</th>\n",
       "      <td>0</td>\n",
       "      <td>8</td>\n",
       "      <td>2</td>\n",
       "      <td>380</td>\n",
       "      <td>245</td>\n",
       "    </tr>\n",
       "    <tr>\n",
       "      <th>3</th>\n",
       "      <td>0</td>\n",
       "      <td>1</td>\n",
       "      <td>0</td>\n",
       "      <td>243</td>\n",
       "      <td>111</td>\n",
       "    </tr>\n",
       "    <tr>\n",
       "      <th>4</th>\n",
       "      <td>0</td>\n",
       "      <td>0</td>\n",
       "      <td>0</td>\n",
       "      <td>24</td>\n",
       "      <td>21</td>\n",
       "    </tr>\n",
       "    <tr>\n",
       "      <th>5</th>\n",
       "      <td>0</td>\n",
       "      <td>0</td>\n",
       "      <td>0</td>\n",
       "      <td>3</td>\n",
       "      <td>4</td>\n",
       "    </tr>\n",
       "  </tbody>\n",
       "</table>\n",
       "</div>"
      ],
      "text/plain": [
       "framework  mindspore  mxnet  paddlepaddle  pytorch  tensorflow\n",
       "layer                                                         \n",
       "1                  1      7             2        1           3\n",
       "2                  0      8             2      380         245\n",
       "3                  0      1             0      243         111\n",
       "4                  0      0             0       24          21\n",
       "5                  0      0             0        3           4"
      ]
     },
     "execution_count": 170,
     "metadata": {},
     "output_type": "execute_result"
    }
   ],
   "source": [
    "pkg_layers[(pkg_layers.dependent_number > 0)].groupby(['layer', 'framework'])['package'].count().unstack().fillna(0).astype(int)"
   ]
  },
  {
   "cell_type": "code",
   "execution_count": 171,
   "id": "9f7d8335-1bfb-41de-ab7a-5fc540468103",
   "metadata": {
    "execution": {
     "iopub.execute_input": "2022-02-21T09:25:06.008616Z",
     "iopub.status.busy": "2022-02-21T09:25:06.008123Z",
     "iopub.status.idle": "2022-02-21T09:25:06.023584Z",
     "shell.execute_reply": "2022-02-21T09:25:06.022967Z",
     "shell.execute_reply.started": "2022-02-21T09:25:06.008567Z"
    }
   },
   "outputs": [
    {
     "data": {
      "text/html": [
       "<div>\n",
       "<style scoped>\n",
       "    .dataframe tbody tr th:only-of-type {\n",
       "        vertical-align: middle;\n",
       "    }\n",
       "\n",
       "    .dataframe tbody tr th {\n",
       "        vertical-align: top;\n",
       "    }\n",
       "\n",
       "    .dataframe thead th {\n",
       "        text-align: right;\n",
       "    }\n",
       "</style>\n",
       "<table border=\"1\" class=\"dataframe\">\n",
       "  <thead>\n",
       "    <tr style=\"text-align: right;\">\n",
       "      <th></th>\n",
       "      <th>package</th>\n",
       "      <th>layer</th>\n",
       "      <th>framework</th>\n",
       "      <th>dependent_number</th>\n",
       "    </tr>\n",
       "  </thead>\n",
       "  <tbody>\n",
       "    <tr>\n",
       "      <th>3707</th>\n",
       "      <td>speechbrain</td>\n",
       "      <td>2</td>\n",
       "      <td>pytorch</td>\n",
       "      <td>2</td>\n",
       "    </tr>\n",
       "    <tr>\n",
       "      <th>3708</th>\n",
       "      <td>speechbrain</td>\n",
       "      <td>3</td>\n",
       "      <td>pytorch</td>\n",
       "      <td>2</td>\n",
       "    </tr>\n",
       "  </tbody>\n",
       "</table>\n",
       "</div>"
      ],
      "text/plain": [
       "          package  layer framework  dependent_number\n",
       "3707  speechbrain      2   pytorch                 2\n",
       "3708  speechbrain      3   pytorch                 2"
      ]
     },
     "execution_count": 171,
     "metadata": {},
     "output_type": "execute_result"
    }
   ],
   "source": [
    "pkg_layers[pkg_layers.package == 'speechbrain']"
   ]
  },
  {
   "cell_type": "code",
   "execution_count": null,
   "id": "a153b68e-ba4e-4442-be28-fffcfc8038c6",
   "metadata": {},
   "outputs": [],
   "source": []
  }
 ],
 "metadata": {
  "interpreter": {
   "hash": "2aead817bcadd79b7c2e9be72453199ecd9d3ccc61e6edf0bf14cae4bf70bb34"
  },
  "kernelspec": {
   "display_name": "Python [conda env:root] *",
   "language": "python",
   "name": "conda-root-py"
  },
  "language_info": {
   "codemirror_mode": {
    "name": "ipython",
    "version": 3
   },
   "file_extension": ".py",
   "mimetype": "text/x-python",
   "name": "python",
   "nbconvert_exporter": "python",
   "pygments_lexer": "ipython3",
   "version": "3.8.3"
  }
 },
 "nbformat": 4,
 "nbformat_minor": 5
}
